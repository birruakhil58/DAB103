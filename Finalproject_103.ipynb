{
  "nbformat": 4,
  "nbformat_minor": 0,
  "metadata": {
    "colab": {
      "name": "Finalproject103.ipynb",
      "provenance": [],
      "collapsed_sections": []
    },
    "kernelspec": {
      "name": "python3",
      "display_name": "Python 3"
    },
    "language_info": {
      "name": "python"
    }
  },
  "cells": [
    {
      "cell_type": "markdown",
      "metadata": {
        "id": "vw6oSSsMhKsW"
      },
      "source": [
        "**Insurance fraud detection**\n",
        "\n",
        "Importing packages"
      ]
    },
    {
      "cell_type": "code",
      "metadata": {
        "id": "2z97Apqnl5MB"
      },
      "source": [
        "import pandas as pd\n",
        "import numpy as np\n",
        "import matplotlib.pyplot as plt\n",
        "import seaborn as sns"
      ],
      "execution_count": 175,
      "outputs": []
    },
    {
      "cell_type": "markdown",
      "metadata": {
        "id": "BbEKwsOfmtmb"
      },
      "source": [
        "Loading dataset"
      ]
    },
    {
      "cell_type": "code",
      "metadata": {
        "colab": {
          "base_uri": "https://localhost:8080/",
          "height": 600
        },
        "id": "x6RkaZsCnI1M",
        "outputId": "7f36fb3f-0ee2-4a2e-86eb-bc7505db09bb"
      },
      "source": [
        "data= pd.read_csv(\"insurance_claims.csv\")\n",
        "data"
      ],
      "execution_count": 176,
      "outputs": [
        {
          "output_type": "execute_result",
          "data": {
            "text/html": [
              "<div>\n",
              "<style scoped>\n",
              "    .dataframe tbody tr th:only-of-type {\n",
              "        vertical-align: middle;\n",
              "    }\n",
              "\n",
              "    .dataframe tbody tr th {\n",
              "        vertical-align: top;\n",
              "    }\n",
              "\n",
              "    .dataframe thead th {\n",
              "        text-align: right;\n",
              "    }\n",
              "</style>\n",
              "<table border=\"1\" class=\"dataframe\">\n",
              "  <thead>\n",
              "    <tr style=\"text-align: right;\">\n",
              "      <th></th>\n",
              "      <th>months_as_customer</th>\n",
              "      <th>age</th>\n",
              "      <th>policy_number</th>\n",
              "      <th>policy_bind_date</th>\n",
              "      <th>policy_state</th>\n",
              "      <th>policy_csl</th>\n",
              "      <th>policy_deductable</th>\n",
              "      <th>policy_annual_premium</th>\n",
              "      <th>umbrella_limit</th>\n",
              "      <th>insured_zip</th>\n",
              "      <th>insured_sex</th>\n",
              "      <th>insured_education_level</th>\n",
              "      <th>insured_occupation</th>\n",
              "      <th>insured_hobbies</th>\n",
              "      <th>insured_relationship</th>\n",
              "      <th>capital-gains</th>\n",
              "      <th>capital-loss</th>\n",
              "      <th>incident_date</th>\n",
              "      <th>incident_type</th>\n",
              "      <th>collision_type</th>\n",
              "      <th>incident_severity</th>\n",
              "      <th>authorities_contacted</th>\n",
              "      <th>incident_state</th>\n",
              "      <th>incident_city</th>\n",
              "      <th>incident_location</th>\n",
              "      <th>incident_hour_of_the_day</th>\n",
              "      <th>number_of_vehicles_involved</th>\n",
              "      <th>property_damage</th>\n",
              "      <th>bodily_injuries</th>\n",
              "      <th>witnesses</th>\n",
              "      <th>police_report_available</th>\n",
              "      <th>total_claim_amount</th>\n",
              "      <th>injury_claim</th>\n",
              "      <th>property_claim</th>\n",
              "      <th>vehicle_claim</th>\n",
              "      <th>auto_make</th>\n",
              "      <th>auto_model</th>\n",
              "      <th>auto_year</th>\n",
              "      <th>fraud_reported</th>\n",
              "      <th>_c39</th>\n",
              "    </tr>\n",
              "  </thead>\n",
              "  <tbody>\n",
              "    <tr>\n",
              "      <th>0</th>\n",
              "      <td>328</td>\n",
              "      <td>48</td>\n",
              "      <td>521585</td>\n",
              "      <td>2014-10-17</td>\n",
              "      <td>OH</td>\n",
              "      <td>250/500</td>\n",
              "      <td>1000</td>\n",
              "      <td>1406.91</td>\n",
              "      <td>0</td>\n",
              "      <td>466132</td>\n",
              "      <td>MALE</td>\n",
              "      <td>MD</td>\n",
              "      <td>craft-repair</td>\n",
              "      <td>sleeping</td>\n",
              "      <td>husband</td>\n",
              "      <td>53300</td>\n",
              "      <td>0</td>\n",
              "      <td>2015-01-25</td>\n",
              "      <td>Single Vehicle Collision</td>\n",
              "      <td>Side Collision</td>\n",
              "      <td>Major Damage</td>\n",
              "      <td>Police</td>\n",
              "      <td>SC</td>\n",
              "      <td>Columbus</td>\n",
              "      <td>9935 4th Drive</td>\n",
              "      <td>5</td>\n",
              "      <td>1</td>\n",
              "      <td>YES</td>\n",
              "      <td>1</td>\n",
              "      <td>2</td>\n",
              "      <td>YES</td>\n",
              "      <td>71610</td>\n",
              "      <td>6510</td>\n",
              "      <td>13020</td>\n",
              "      <td>52080</td>\n",
              "      <td>Saab</td>\n",
              "      <td>92x</td>\n",
              "      <td>2004</td>\n",
              "      <td>Y</td>\n",
              "      <td>NaN</td>\n",
              "    </tr>\n",
              "    <tr>\n",
              "      <th>1</th>\n",
              "      <td>228</td>\n",
              "      <td>42</td>\n",
              "      <td>342868</td>\n",
              "      <td>2006-06-27</td>\n",
              "      <td>IN</td>\n",
              "      <td>250/500</td>\n",
              "      <td>2000</td>\n",
              "      <td>1197.22</td>\n",
              "      <td>5000000</td>\n",
              "      <td>468176</td>\n",
              "      <td>MALE</td>\n",
              "      <td>MD</td>\n",
              "      <td>machine-op-inspct</td>\n",
              "      <td>reading</td>\n",
              "      <td>other-relative</td>\n",
              "      <td>0</td>\n",
              "      <td>0</td>\n",
              "      <td>2015-01-21</td>\n",
              "      <td>Vehicle Theft</td>\n",
              "      <td>?</td>\n",
              "      <td>Minor Damage</td>\n",
              "      <td>Police</td>\n",
              "      <td>VA</td>\n",
              "      <td>Riverwood</td>\n",
              "      <td>6608 MLK Hwy</td>\n",
              "      <td>8</td>\n",
              "      <td>1</td>\n",
              "      <td>?</td>\n",
              "      <td>0</td>\n",
              "      <td>0</td>\n",
              "      <td>?</td>\n",
              "      <td>5070</td>\n",
              "      <td>780</td>\n",
              "      <td>780</td>\n",
              "      <td>3510</td>\n",
              "      <td>Mercedes</td>\n",
              "      <td>E400</td>\n",
              "      <td>2007</td>\n",
              "      <td>Y</td>\n",
              "      <td>NaN</td>\n",
              "    </tr>\n",
              "    <tr>\n",
              "      <th>2</th>\n",
              "      <td>134</td>\n",
              "      <td>29</td>\n",
              "      <td>687698</td>\n",
              "      <td>2000-09-06</td>\n",
              "      <td>OH</td>\n",
              "      <td>100/300</td>\n",
              "      <td>2000</td>\n",
              "      <td>1413.14</td>\n",
              "      <td>5000000</td>\n",
              "      <td>430632</td>\n",
              "      <td>FEMALE</td>\n",
              "      <td>PhD</td>\n",
              "      <td>sales</td>\n",
              "      <td>board-games</td>\n",
              "      <td>own-child</td>\n",
              "      <td>35100</td>\n",
              "      <td>0</td>\n",
              "      <td>2015-02-22</td>\n",
              "      <td>Multi-vehicle Collision</td>\n",
              "      <td>Rear Collision</td>\n",
              "      <td>Minor Damage</td>\n",
              "      <td>Police</td>\n",
              "      <td>NY</td>\n",
              "      <td>Columbus</td>\n",
              "      <td>7121 Francis Lane</td>\n",
              "      <td>7</td>\n",
              "      <td>3</td>\n",
              "      <td>NO</td>\n",
              "      <td>2</td>\n",
              "      <td>3</td>\n",
              "      <td>NO</td>\n",
              "      <td>34650</td>\n",
              "      <td>7700</td>\n",
              "      <td>3850</td>\n",
              "      <td>23100</td>\n",
              "      <td>Dodge</td>\n",
              "      <td>RAM</td>\n",
              "      <td>2007</td>\n",
              "      <td>N</td>\n",
              "      <td>NaN</td>\n",
              "    </tr>\n",
              "    <tr>\n",
              "      <th>3</th>\n",
              "      <td>256</td>\n",
              "      <td>41</td>\n",
              "      <td>227811</td>\n",
              "      <td>1990-05-25</td>\n",
              "      <td>IL</td>\n",
              "      <td>250/500</td>\n",
              "      <td>2000</td>\n",
              "      <td>1415.74</td>\n",
              "      <td>6000000</td>\n",
              "      <td>608117</td>\n",
              "      <td>FEMALE</td>\n",
              "      <td>PhD</td>\n",
              "      <td>armed-forces</td>\n",
              "      <td>board-games</td>\n",
              "      <td>unmarried</td>\n",
              "      <td>48900</td>\n",
              "      <td>-62400</td>\n",
              "      <td>2015-01-10</td>\n",
              "      <td>Single Vehicle Collision</td>\n",
              "      <td>Front Collision</td>\n",
              "      <td>Major Damage</td>\n",
              "      <td>Police</td>\n",
              "      <td>OH</td>\n",
              "      <td>Arlington</td>\n",
              "      <td>6956 Maple Drive</td>\n",
              "      <td>5</td>\n",
              "      <td>1</td>\n",
              "      <td>?</td>\n",
              "      <td>1</td>\n",
              "      <td>2</td>\n",
              "      <td>NO</td>\n",
              "      <td>63400</td>\n",
              "      <td>6340</td>\n",
              "      <td>6340</td>\n",
              "      <td>50720</td>\n",
              "      <td>Chevrolet</td>\n",
              "      <td>Tahoe</td>\n",
              "      <td>2014</td>\n",
              "      <td>Y</td>\n",
              "      <td>NaN</td>\n",
              "    </tr>\n",
              "    <tr>\n",
              "      <th>4</th>\n",
              "      <td>228</td>\n",
              "      <td>44</td>\n",
              "      <td>367455</td>\n",
              "      <td>2014-06-06</td>\n",
              "      <td>IL</td>\n",
              "      <td>500/1000</td>\n",
              "      <td>1000</td>\n",
              "      <td>1583.91</td>\n",
              "      <td>6000000</td>\n",
              "      <td>610706</td>\n",
              "      <td>MALE</td>\n",
              "      <td>Associate</td>\n",
              "      <td>sales</td>\n",
              "      <td>board-games</td>\n",
              "      <td>unmarried</td>\n",
              "      <td>66000</td>\n",
              "      <td>-46000</td>\n",
              "      <td>2015-02-17</td>\n",
              "      <td>Vehicle Theft</td>\n",
              "      <td>?</td>\n",
              "      <td>Minor Damage</td>\n",
              "      <td>None</td>\n",
              "      <td>NY</td>\n",
              "      <td>Arlington</td>\n",
              "      <td>3041 3rd Ave</td>\n",
              "      <td>20</td>\n",
              "      <td>1</td>\n",
              "      <td>NO</td>\n",
              "      <td>0</td>\n",
              "      <td>1</td>\n",
              "      <td>NO</td>\n",
              "      <td>6500</td>\n",
              "      <td>1300</td>\n",
              "      <td>650</td>\n",
              "      <td>4550</td>\n",
              "      <td>Accura</td>\n",
              "      <td>RSX</td>\n",
              "      <td>2009</td>\n",
              "      <td>N</td>\n",
              "      <td>NaN</td>\n",
              "    </tr>\n",
              "    <tr>\n",
              "      <th>...</th>\n",
              "      <td>...</td>\n",
              "      <td>...</td>\n",
              "      <td>...</td>\n",
              "      <td>...</td>\n",
              "      <td>...</td>\n",
              "      <td>...</td>\n",
              "      <td>...</td>\n",
              "      <td>...</td>\n",
              "      <td>...</td>\n",
              "      <td>...</td>\n",
              "      <td>...</td>\n",
              "      <td>...</td>\n",
              "      <td>...</td>\n",
              "      <td>...</td>\n",
              "      <td>...</td>\n",
              "      <td>...</td>\n",
              "      <td>...</td>\n",
              "      <td>...</td>\n",
              "      <td>...</td>\n",
              "      <td>...</td>\n",
              "      <td>...</td>\n",
              "      <td>...</td>\n",
              "      <td>...</td>\n",
              "      <td>...</td>\n",
              "      <td>...</td>\n",
              "      <td>...</td>\n",
              "      <td>...</td>\n",
              "      <td>...</td>\n",
              "      <td>...</td>\n",
              "      <td>...</td>\n",
              "      <td>...</td>\n",
              "      <td>...</td>\n",
              "      <td>...</td>\n",
              "      <td>...</td>\n",
              "      <td>...</td>\n",
              "      <td>...</td>\n",
              "      <td>...</td>\n",
              "      <td>...</td>\n",
              "      <td>...</td>\n",
              "      <td>...</td>\n",
              "    </tr>\n",
              "    <tr>\n",
              "      <th>995</th>\n",
              "      <td>3</td>\n",
              "      <td>38</td>\n",
              "      <td>941851</td>\n",
              "      <td>1991-07-16</td>\n",
              "      <td>OH</td>\n",
              "      <td>500/1000</td>\n",
              "      <td>1000</td>\n",
              "      <td>1310.80</td>\n",
              "      <td>0</td>\n",
              "      <td>431289</td>\n",
              "      <td>FEMALE</td>\n",
              "      <td>Masters</td>\n",
              "      <td>craft-repair</td>\n",
              "      <td>paintball</td>\n",
              "      <td>unmarried</td>\n",
              "      <td>0</td>\n",
              "      <td>0</td>\n",
              "      <td>2015-02-22</td>\n",
              "      <td>Single Vehicle Collision</td>\n",
              "      <td>Front Collision</td>\n",
              "      <td>Minor Damage</td>\n",
              "      <td>Fire</td>\n",
              "      <td>NC</td>\n",
              "      <td>Northbrook</td>\n",
              "      <td>6045 Andromedia St</td>\n",
              "      <td>20</td>\n",
              "      <td>1</td>\n",
              "      <td>YES</td>\n",
              "      <td>0</td>\n",
              "      <td>1</td>\n",
              "      <td>?</td>\n",
              "      <td>87200</td>\n",
              "      <td>17440</td>\n",
              "      <td>8720</td>\n",
              "      <td>61040</td>\n",
              "      <td>Honda</td>\n",
              "      <td>Accord</td>\n",
              "      <td>2006</td>\n",
              "      <td>N</td>\n",
              "      <td>NaN</td>\n",
              "    </tr>\n",
              "    <tr>\n",
              "      <th>996</th>\n",
              "      <td>285</td>\n",
              "      <td>41</td>\n",
              "      <td>186934</td>\n",
              "      <td>2014-01-05</td>\n",
              "      <td>IL</td>\n",
              "      <td>100/300</td>\n",
              "      <td>1000</td>\n",
              "      <td>1436.79</td>\n",
              "      <td>0</td>\n",
              "      <td>608177</td>\n",
              "      <td>FEMALE</td>\n",
              "      <td>PhD</td>\n",
              "      <td>prof-specialty</td>\n",
              "      <td>sleeping</td>\n",
              "      <td>wife</td>\n",
              "      <td>70900</td>\n",
              "      <td>0</td>\n",
              "      <td>2015-01-24</td>\n",
              "      <td>Single Vehicle Collision</td>\n",
              "      <td>Rear Collision</td>\n",
              "      <td>Major Damage</td>\n",
              "      <td>Fire</td>\n",
              "      <td>SC</td>\n",
              "      <td>Northbend</td>\n",
              "      <td>3092 Texas Drive</td>\n",
              "      <td>23</td>\n",
              "      <td>1</td>\n",
              "      <td>YES</td>\n",
              "      <td>2</td>\n",
              "      <td>3</td>\n",
              "      <td>?</td>\n",
              "      <td>108480</td>\n",
              "      <td>18080</td>\n",
              "      <td>18080</td>\n",
              "      <td>72320</td>\n",
              "      <td>Volkswagen</td>\n",
              "      <td>Passat</td>\n",
              "      <td>2015</td>\n",
              "      <td>N</td>\n",
              "      <td>NaN</td>\n",
              "    </tr>\n",
              "    <tr>\n",
              "      <th>997</th>\n",
              "      <td>130</td>\n",
              "      <td>34</td>\n",
              "      <td>918516</td>\n",
              "      <td>2003-02-17</td>\n",
              "      <td>OH</td>\n",
              "      <td>250/500</td>\n",
              "      <td>500</td>\n",
              "      <td>1383.49</td>\n",
              "      <td>3000000</td>\n",
              "      <td>442797</td>\n",
              "      <td>FEMALE</td>\n",
              "      <td>Masters</td>\n",
              "      <td>armed-forces</td>\n",
              "      <td>bungie-jumping</td>\n",
              "      <td>other-relative</td>\n",
              "      <td>35100</td>\n",
              "      <td>0</td>\n",
              "      <td>2015-01-23</td>\n",
              "      <td>Multi-vehicle Collision</td>\n",
              "      <td>Side Collision</td>\n",
              "      <td>Minor Damage</td>\n",
              "      <td>Police</td>\n",
              "      <td>NC</td>\n",
              "      <td>Arlington</td>\n",
              "      <td>7629 5th St</td>\n",
              "      <td>4</td>\n",
              "      <td>3</td>\n",
              "      <td>?</td>\n",
              "      <td>2</td>\n",
              "      <td>3</td>\n",
              "      <td>YES</td>\n",
              "      <td>67500</td>\n",
              "      <td>7500</td>\n",
              "      <td>7500</td>\n",
              "      <td>52500</td>\n",
              "      <td>Suburu</td>\n",
              "      <td>Impreza</td>\n",
              "      <td>1996</td>\n",
              "      <td>N</td>\n",
              "      <td>NaN</td>\n",
              "    </tr>\n",
              "    <tr>\n",
              "      <th>998</th>\n",
              "      <td>458</td>\n",
              "      <td>62</td>\n",
              "      <td>533940</td>\n",
              "      <td>2011-11-18</td>\n",
              "      <td>IL</td>\n",
              "      <td>500/1000</td>\n",
              "      <td>2000</td>\n",
              "      <td>1356.92</td>\n",
              "      <td>5000000</td>\n",
              "      <td>441714</td>\n",
              "      <td>MALE</td>\n",
              "      <td>Associate</td>\n",
              "      <td>handlers-cleaners</td>\n",
              "      <td>base-jumping</td>\n",
              "      <td>wife</td>\n",
              "      <td>0</td>\n",
              "      <td>0</td>\n",
              "      <td>2015-02-26</td>\n",
              "      <td>Single Vehicle Collision</td>\n",
              "      <td>Rear Collision</td>\n",
              "      <td>Major Damage</td>\n",
              "      <td>Other</td>\n",
              "      <td>NY</td>\n",
              "      <td>Arlington</td>\n",
              "      <td>6128 Elm Lane</td>\n",
              "      <td>2</td>\n",
              "      <td>1</td>\n",
              "      <td>?</td>\n",
              "      <td>0</td>\n",
              "      <td>1</td>\n",
              "      <td>YES</td>\n",
              "      <td>46980</td>\n",
              "      <td>5220</td>\n",
              "      <td>5220</td>\n",
              "      <td>36540</td>\n",
              "      <td>Audi</td>\n",
              "      <td>A5</td>\n",
              "      <td>1998</td>\n",
              "      <td>N</td>\n",
              "      <td>NaN</td>\n",
              "    </tr>\n",
              "    <tr>\n",
              "      <th>999</th>\n",
              "      <td>456</td>\n",
              "      <td>60</td>\n",
              "      <td>556080</td>\n",
              "      <td>1996-11-11</td>\n",
              "      <td>OH</td>\n",
              "      <td>250/500</td>\n",
              "      <td>1000</td>\n",
              "      <td>766.19</td>\n",
              "      <td>0</td>\n",
              "      <td>612260</td>\n",
              "      <td>FEMALE</td>\n",
              "      <td>Associate</td>\n",
              "      <td>sales</td>\n",
              "      <td>kayaking</td>\n",
              "      <td>husband</td>\n",
              "      <td>0</td>\n",
              "      <td>0</td>\n",
              "      <td>2015-02-26</td>\n",
              "      <td>Parked Car</td>\n",
              "      <td>?</td>\n",
              "      <td>Minor Damage</td>\n",
              "      <td>Police</td>\n",
              "      <td>WV</td>\n",
              "      <td>Columbus</td>\n",
              "      <td>1416 Cherokee Ridge</td>\n",
              "      <td>6</td>\n",
              "      <td>1</td>\n",
              "      <td>?</td>\n",
              "      <td>0</td>\n",
              "      <td>3</td>\n",
              "      <td>?</td>\n",
              "      <td>5060</td>\n",
              "      <td>460</td>\n",
              "      <td>920</td>\n",
              "      <td>3680</td>\n",
              "      <td>Mercedes</td>\n",
              "      <td>E400</td>\n",
              "      <td>2007</td>\n",
              "      <td>N</td>\n",
              "      <td>NaN</td>\n",
              "    </tr>\n",
              "  </tbody>\n",
              "</table>\n",
              "<p>1000 rows × 40 columns</p>\n",
              "</div>"
            ],
            "text/plain": [
              "     months_as_customer  age  policy_number  ... auto_year fraud_reported _c39\n",
              "0                   328   48         521585  ...      2004              Y  NaN\n",
              "1                   228   42         342868  ...      2007              Y  NaN\n",
              "2                   134   29         687698  ...      2007              N  NaN\n",
              "3                   256   41         227811  ...      2014              Y  NaN\n",
              "4                   228   44         367455  ...      2009              N  NaN\n",
              "..                  ...  ...            ...  ...       ...            ...  ...\n",
              "995                   3   38         941851  ...      2006              N  NaN\n",
              "996                 285   41         186934  ...      2015              N  NaN\n",
              "997                 130   34         918516  ...      1996              N  NaN\n",
              "998                 458   62         533940  ...      1998              N  NaN\n",
              "999                 456   60         556080  ...      2007              N  NaN\n",
              "\n",
              "[1000 rows x 40 columns]"
            ]
          },
          "metadata": {
            "tags": []
          },
          "execution_count": 176
        }
      ]
    },
    {
      "cell_type": "markdown",
      "metadata": {
        "id": "bTa5Ppfpqpxk"
      },
      "source": [
        "\n",
        "Dimensions of dataset "
      ]
    },
    {
      "cell_type": "code",
      "metadata": {
        "colab": {
          "base_uri": "https://localhost:8080/"
        },
        "id": "AfjC40eQquyZ",
        "outputId": "4f7aab03-d077-4027-c4ed-c4c2554c6579"
      },
      "source": [
        "data.shape"
      ],
      "execution_count": 177,
      "outputs": [
        {
          "output_type": "execute_result",
          "data": {
            "text/plain": [
              "(1000, 40)"
            ]
          },
          "metadata": {
            "tags": []
          },
          "execution_count": 177
        }
      ]
    },
    {
      "cell_type": "markdown",
      "metadata": {
        "id": "R0XRW9FQrDfv"
      },
      "source": [
        "Dataset description"
      ]
    },
    {
      "cell_type": "code",
      "metadata": {
        "colab": {
          "base_uri": "https://localhost:8080/",
          "height": 337
        },
        "id": "ozrrTLaqrG3g",
        "outputId": "00171db3-0934-4627-97a5-baff3e602754"
      },
      "source": [
        "data.describe()"
      ],
      "execution_count": 178,
      "outputs": [
        {
          "output_type": "execute_result",
          "data": {
            "text/html": [
              "<div>\n",
              "<style scoped>\n",
              "    .dataframe tbody tr th:only-of-type {\n",
              "        vertical-align: middle;\n",
              "    }\n",
              "\n",
              "    .dataframe tbody tr th {\n",
              "        vertical-align: top;\n",
              "    }\n",
              "\n",
              "    .dataframe thead th {\n",
              "        text-align: right;\n",
              "    }\n",
              "</style>\n",
              "<table border=\"1\" class=\"dataframe\">\n",
              "  <thead>\n",
              "    <tr style=\"text-align: right;\">\n",
              "      <th></th>\n",
              "      <th>months_as_customer</th>\n",
              "      <th>age</th>\n",
              "      <th>policy_number</th>\n",
              "      <th>policy_deductable</th>\n",
              "      <th>policy_annual_premium</th>\n",
              "      <th>umbrella_limit</th>\n",
              "      <th>insured_zip</th>\n",
              "      <th>capital-gains</th>\n",
              "      <th>capital-loss</th>\n",
              "      <th>incident_hour_of_the_day</th>\n",
              "      <th>number_of_vehicles_involved</th>\n",
              "      <th>bodily_injuries</th>\n",
              "      <th>witnesses</th>\n",
              "      <th>total_claim_amount</th>\n",
              "      <th>injury_claim</th>\n",
              "      <th>property_claim</th>\n",
              "      <th>vehicle_claim</th>\n",
              "      <th>auto_year</th>\n",
              "      <th>_c39</th>\n",
              "    </tr>\n",
              "  </thead>\n",
              "  <tbody>\n",
              "    <tr>\n",
              "      <th>count</th>\n",
              "      <td>1000.000000</td>\n",
              "      <td>1000.000000</td>\n",
              "      <td>1000.000000</td>\n",
              "      <td>1000.000000</td>\n",
              "      <td>1000.000000</td>\n",
              "      <td>1.000000e+03</td>\n",
              "      <td>1000.000000</td>\n",
              "      <td>1000.000000</td>\n",
              "      <td>1000.000000</td>\n",
              "      <td>1000.000000</td>\n",
              "      <td>1000.00000</td>\n",
              "      <td>1000.000000</td>\n",
              "      <td>1000.000000</td>\n",
              "      <td>1000.00000</td>\n",
              "      <td>1000.000000</td>\n",
              "      <td>1000.000000</td>\n",
              "      <td>1000.000000</td>\n",
              "      <td>1000.000000</td>\n",
              "      <td>0.0</td>\n",
              "    </tr>\n",
              "    <tr>\n",
              "      <th>mean</th>\n",
              "      <td>203.954000</td>\n",
              "      <td>38.948000</td>\n",
              "      <td>546238.648000</td>\n",
              "      <td>1136.000000</td>\n",
              "      <td>1256.406150</td>\n",
              "      <td>1.101000e+06</td>\n",
              "      <td>501214.488000</td>\n",
              "      <td>25126.100000</td>\n",
              "      <td>-26793.700000</td>\n",
              "      <td>11.644000</td>\n",
              "      <td>1.83900</td>\n",
              "      <td>0.992000</td>\n",
              "      <td>1.487000</td>\n",
              "      <td>52761.94000</td>\n",
              "      <td>7433.420000</td>\n",
              "      <td>7399.570000</td>\n",
              "      <td>37928.950000</td>\n",
              "      <td>2005.103000</td>\n",
              "      <td>NaN</td>\n",
              "    </tr>\n",
              "    <tr>\n",
              "      <th>std</th>\n",
              "      <td>115.113174</td>\n",
              "      <td>9.140287</td>\n",
              "      <td>257063.005276</td>\n",
              "      <td>611.864673</td>\n",
              "      <td>244.167395</td>\n",
              "      <td>2.297407e+06</td>\n",
              "      <td>71701.610941</td>\n",
              "      <td>27872.187708</td>\n",
              "      <td>28104.096686</td>\n",
              "      <td>6.951373</td>\n",
              "      <td>1.01888</td>\n",
              "      <td>0.820127</td>\n",
              "      <td>1.111335</td>\n",
              "      <td>26401.53319</td>\n",
              "      <td>4880.951853</td>\n",
              "      <td>4824.726179</td>\n",
              "      <td>18886.252893</td>\n",
              "      <td>6.015861</td>\n",
              "      <td>NaN</td>\n",
              "    </tr>\n",
              "    <tr>\n",
              "      <th>min</th>\n",
              "      <td>0.000000</td>\n",
              "      <td>19.000000</td>\n",
              "      <td>100804.000000</td>\n",
              "      <td>500.000000</td>\n",
              "      <td>433.330000</td>\n",
              "      <td>-1.000000e+06</td>\n",
              "      <td>430104.000000</td>\n",
              "      <td>0.000000</td>\n",
              "      <td>-111100.000000</td>\n",
              "      <td>0.000000</td>\n",
              "      <td>1.00000</td>\n",
              "      <td>0.000000</td>\n",
              "      <td>0.000000</td>\n",
              "      <td>100.00000</td>\n",
              "      <td>0.000000</td>\n",
              "      <td>0.000000</td>\n",
              "      <td>70.000000</td>\n",
              "      <td>1995.000000</td>\n",
              "      <td>NaN</td>\n",
              "    </tr>\n",
              "    <tr>\n",
              "      <th>25%</th>\n",
              "      <td>115.750000</td>\n",
              "      <td>32.000000</td>\n",
              "      <td>335980.250000</td>\n",
              "      <td>500.000000</td>\n",
              "      <td>1089.607500</td>\n",
              "      <td>0.000000e+00</td>\n",
              "      <td>448404.500000</td>\n",
              "      <td>0.000000</td>\n",
              "      <td>-51500.000000</td>\n",
              "      <td>6.000000</td>\n",
              "      <td>1.00000</td>\n",
              "      <td>0.000000</td>\n",
              "      <td>1.000000</td>\n",
              "      <td>41812.50000</td>\n",
              "      <td>4295.000000</td>\n",
              "      <td>4445.000000</td>\n",
              "      <td>30292.500000</td>\n",
              "      <td>2000.000000</td>\n",
              "      <td>NaN</td>\n",
              "    </tr>\n",
              "    <tr>\n",
              "      <th>50%</th>\n",
              "      <td>199.500000</td>\n",
              "      <td>38.000000</td>\n",
              "      <td>533135.000000</td>\n",
              "      <td>1000.000000</td>\n",
              "      <td>1257.200000</td>\n",
              "      <td>0.000000e+00</td>\n",
              "      <td>466445.500000</td>\n",
              "      <td>0.000000</td>\n",
              "      <td>-23250.000000</td>\n",
              "      <td>12.000000</td>\n",
              "      <td>1.00000</td>\n",
              "      <td>1.000000</td>\n",
              "      <td>1.000000</td>\n",
              "      <td>58055.00000</td>\n",
              "      <td>6775.000000</td>\n",
              "      <td>6750.000000</td>\n",
              "      <td>42100.000000</td>\n",
              "      <td>2005.000000</td>\n",
              "      <td>NaN</td>\n",
              "    </tr>\n",
              "    <tr>\n",
              "      <th>75%</th>\n",
              "      <td>276.250000</td>\n",
              "      <td>44.000000</td>\n",
              "      <td>759099.750000</td>\n",
              "      <td>2000.000000</td>\n",
              "      <td>1415.695000</td>\n",
              "      <td>0.000000e+00</td>\n",
              "      <td>603251.000000</td>\n",
              "      <td>51025.000000</td>\n",
              "      <td>0.000000</td>\n",
              "      <td>17.000000</td>\n",
              "      <td>3.00000</td>\n",
              "      <td>2.000000</td>\n",
              "      <td>2.000000</td>\n",
              "      <td>70592.50000</td>\n",
              "      <td>11305.000000</td>\n",
              "      <td>10885.000000</td>\n",
              "      <td>50822.500000</td>\n",
              "      <td>2010.000000</td>\n",
              "      <td>NaN</td>\n",
              "    </tr>\n",
              "    <tr>\n",
              "      <th>max</th>\n",
              "      <td>479.000000</td>\n",
              "      <td>64.000000</td>\n",
              "      <td>999435.000000</td>\n",
              "      <td>2000.000000</td>\n",
              "      <td>2047.590000</td>\n",
              "      <td>1.000000e+07</td>\n",
              "      <td>620962.000000</td>\n",
              "      <td>100500.000000</td>\n",
              "      <td>0.000000</td>\n",
              "      <td>23.000000</td>\n",
              "      <td>4.00000</td>\n",
              "      <td>2.000000</td>\n",
              "      <td>3.000000</td>\n",
              "      <td>114920.00000</td>\n",
              "      <td>21450.000000</td>\n",
              "      <td>23670.000000</td>\n",
              "      <td>79560.000000</td>\n",
              "      <td>2015.000000</td>\n",
              "      <td>NaN</td>\n",
              "    </tr>\n",
              "  </tbody>\n",
              "</table>\n",
              "</div>"
            ],
            "text/plain": [
              "       months_as_customer          age  ...    auto_year  _c39\n",
              "count         1000.000000  1000.000000  ...  1000.000000   0.0\n",
              "mean           203.954000    38.948000  ...  2005.103000   NaN\n",
              "std            115.113174     9.140287  ...     6.015861   NaN\n",
              "min              0.000000    19.000000  ...  1995.000000   NaN\n",
              "25%            115.750000    32.000000  ...  2000.000000   NaN\n",
              "50%            199.500000    38.000000  ...  2005.000000   NaN\n",
              "75%            276.250000    44.000000  ...  2010.000000   NaN\n",
              "max            479.000000    64.000000  ...  2015.000000   NaN\n",
              "\n",
              "[8 rows x 19 columns]"
            ]
          },
          "metadata": {
            "tags": []
          },
          "execution_count": 178
        }
      ]
    },
    {
      "cell_type": "markdown",
      "metadata": {
        "id": "kNlt1KecrVw6"
      },
      "source": [
        "Displaying head and tail of dataset"
      ]
    },
    {
      "cell_type": "code",
      "metadata": {
        "colab": {
          "base_uri": "https://localhost:8080/",
          "height": 296
        },
        "id": "yN2moKRprdRr",
        "outputId": "613fc375-3919-4774-f392-fa57bcfc4acd"
      },
      "source": [
        "data.head()"
      ],
      "execution_count": 179,
      "outputs": [
        {
          "output_type": "execute_result",
          "data": {
            "text/html": [
              "<div>\n",
              "<style scoped>\n",
              "    .dataframe tbody tr th:only-of-type {\n",
              "        vertical-align: middle;\n",
              "    }\n",
              "\n",
              "    .dataframe tbody tr th {\n",
              "        vertical-align: top;\n",
              "    }\n",
              "\n",
              "    .dataframe thead th {\n",
              "        text-align: right;\n",
              "    }\n",
              "</style>\n",
              "<table border=\"1\" class=\"dataframe\">\n",
              "  <thead>\n",
              "    <tr style=\"text-align: right;\">\n",
              "      <th></th>\n",
              "      <th>months_as_customer</th>\n",
              "      <th>age</th>\n",
              "      <th>policy_number</th>\n",
              "      <th>policy_bind_date</th>\n",
              "      <th>policy_state</th>\n",
              "      <th>policy_csl</th>\n",
              "      <th>policy_deductable</th>\n",
              "      <th>policy_annual_premium</th>\n",
              "      <th>umbrella_limit</th>\n",
              "      <th>insured_zip</th>\n",
              "      <th>insured_sex</th>\n",
              "      <th>insured_education_level</th>\n",
              "      <th>insured_occupation</th>\n",
              "      <th>insured_hobbies</th>\n",
              "      <th>insured_relationship</th>\n",
              "      <th>capital-gains</th>\n",
              "      <th>capital-loss</th>\n",
              "      <th>incident_date</th>\n",
              "      <th>incident_type</th>\n",
              "      <th>collision_type</th>\n",
              "      <th>incident_severity</th>\n",
              "      <th>authorities_contacted</th>\n",
              "      <th>incident_state</th>\n",
              "      <th>incident_city</th>\n",
              "      <th>incident_location</th>\n",
              "      <th>incident_hour_of_the_day</th>\n",
              "      <th>number_of_vehicles_involved</th>\n",
              "      <th>property_damage</th>\n",
              "      <th>bodily_injuries</th>\n",
              "      <th>witnesses</th>\n",
              "      <th>police_report_available</th>\n",
              "      <th>total_claim_amount</th>\n",
              "      <th>injury_claim</th>\n",
              "      <th>property_claim</th>\n",
              "      <th>vehicle_claim</th>\n",
              "      <th>auto_make</th>\n",
              "      <th>auto_model</th>\n",
              "      <th>auto_year</th>\n",
              "      <th>fraud_reported</th>\n",
              "      <th>_c39</th>\n",
              "    </tr>\n",
              "  </thead>\n",
              "  <tbody>\n",
              "    <tr>\n",
              "      <th>0</th>\n",
              "      <td>328</td>\n",
              "      <td>48</td>\n",
              "      <td>521585</td>\n",
              "      <td>2014-10-17</td>\n",
              "      <td>OH</td>\n",
              "      <td>250/500</td>\n",
              "      <td>1000</td>\n",
              "      <td>1406.91</td>\n",
              "      <td>0</td>\n",
              "      <td>466132</td>\n",
              "      <td>MALE</td>\n",
              "      <td>MD</td>\n",
              "      <td>craft-repair</td>\n",
              "      <td>sleeping</td>\n",
              "      <td>husband</td>\n",
              "      <td>53300</td>\n",
              "      <td>0</td>\n",
              "      <td>2015-01-25</td>\n",
              "      <td>Single Vehicle Collision</td>\n",
              "      <td>Side Collision</td>\n",
              "      <td>Major Damage</td>\n",
              "      <td>Police</td>\n",
              "      <td>SC</td>\n",
              "      <td>Columbus</td>\n",
              "      <td>9935 4th Drive</td>\n",
              "      <td>5</td>\n",
              "      <td>1</td>\n",
              "      <td>YES</td>\n",
              "      <td>1</td>\n",
              "      <td>2</td>\n",
              "      <td>YES</td>\n",
              "      <td>71610</td>\n",
              "      <td>6510</td>\n",
              "      <td>13020</td>\n",
              "      <td>52080</td>\n",
              "      <td>Saab</td>\n",
              "      <td>92x</td>\n",
              "      <td>2004</td>\n",
              "      <td>Y</td>\n",
              "      <td>NaN</td>\n",
              "    </tr>\n",
              "    <tr>\n",
              "      <th>1</th>\n",
              "      <td>228</td>\n",
              "      <td>42</td>\n",
              "      <td>342868</td>\n",
              "      <td>2006-06-27</td>\n",
              "      <td>IN</td>\n",
              "      <td>250/500</td>\n",
              "      <td>2000</td>\n",
              "      <td>1197.22</td>\n",
              "      <td>5000000</td>\n",
              "      <td>468176</td>\n",
              "      <td>MALE</td>\n",
              "      <td>MD</td>\n",
              "      <td>machine-op-inspct</td>\n",
              "      <td>reading</td>\n",
              "      <td>other-relative</td>\n",
              "      <td>0</td>\n",
              "      <td>0</td>\n",
              "      <td>2015-01-21</td>\n",
              "      <td>Vehicle Theft</td>\n",
              "      <td>?</td>\n",
              "      <td>Minor Damage</td>\n",
              "      <td>Police</td>\n",
              "      <td>VA</td>\n",
              "      <td>Riverwood</td>\n",
              "      <td>6608 MLK Hwy</td>\n",
              "      <td>8</td>\n",
              "      <td>1</td>\n",
              "      <td>?</td>\n",
              "      <td>0</td>\n",
              "      <td>0</td>\n",
              "      <td>?</td>\n",
              "      <td>5070</td>\n",
              "      <td>780</td>\n",
              "      <td>780</td>\n",
              "      <td>3510</td>\n",
              "      <td>Mercedes</td>\n",
              "      <td>E400</td>\n",
              "      <td>2007</td>\n",
              "      <td>Y</td>\n",
              "      <td>NaN</td>\n",
              "    </tr>\n",
              "    <tr>\n",
              "      <th>2</th>\n",
              "      <td>134</td>\n",
              "      <td>29</td>\n",
              "      <td>687698</td>\n",
              "      <td>2000-09-06</td>\n",
              "      <td>OH</td>\n",
              "      <td>100/300</td>\n",
              "      <td>2000</td>\n",
              "      <td>1413.14</td>\n",
              "      <td>5000000</td>\n",
              "      <td>430632</td>\n",
              "      <td>FEMALE</td>\n",
              "      <td>PhD</td>\n",
              "      <td>sales</td>\n",
              "      <td>board-games</td>\n",
              "      <td>own-child</td>\n",
              "      <td>35100</td>\n",
              "      <td>0</td>\n",
              "      <td>2015-02-22</td>\n",
              "      <td>Multi-vehicle Collision</td>\n",
              "      <td>Rear Collision</td>\n",
              "      <td>Minor Damage</td>\n",
              "      <td>Police</td>\n",
              "      <td>NY</td>\n",
              "      <td>Columbus</td>\n",
              "      <td>7121 Francis Lane</td>\n",
              "      <td>7</td>\n",
              "      <td>3</td>\n",
              "      <td>NO</td>\n",
              "      <td>2</td>\n",
              "      <td>3</td>\n",
              "      <td>NO</td>\n",
              "      <td>34650</td>\n",
              "      <td>7700</td>\n",
              "      <td>3850</td>\n",
              "      <td>23100</td>\n",
              "      <td>Dodge</td>\n",
              "      <td>RAM</td>\n",
              "      <td>2007</td>\n",
              "      <td>N</td>\n",
              "      <td>NaN</td>\n",
              "    </tr>\n",
              "    <tr>\n",
              "      <th>3</th>\n",
              "      <td>256</td>\n",
              "      <td>41</td>\n",
              "      <td>227811</td>\n",
              "      <td>1990-05-25</td>\n",
              "      <td>IL</td>\n",
              "      <td>250/500</td>\n",
              "      <td>2000</td>\n",
              "      <td>1415.74</td>\n",
              "      <td>6000000</td>\n",
              "      <td>608117</td>\n",
              "      <td>FEMALE</td>\n",
              "      <td>PhD</td>\n",
              "      <td>armed-forces</td>\n",
              "      <td>board-games</td>\n",
              "      <td>unmarried</td>\n",
              "      <td>48900</td>\n",
              "      <td>-62400</td>\n",
              "      <td>2015-01-10</td>\n",
              "      <td>Single Vehicle Collision</td>\n",
              "      <td>Front Collision</td>\n",
              "      <td>Major Damage</td>\n",
              "      <td>Police</td>\n",
              "      <td>OH</td>\n",
              "      <td>Arlington</td>\n",
              "      <td>6956 Maple Drive</td>\n",
              "      <td>5</td>\n",
              "      <td>1</td>\n",
              "      <td>?</td>\n",
              "      <td>1</td>\n",
              "      <td>2</td>\n",
              "      <td>NO</td>\n",
              "      <td>63400</td>\n",
              "      <td>6340</td>\n",
              "      <td>6340</td>\n",
              "      <td>50720</td>\n",
              "      <td>Chevrolet</td>\n",
              "      <td>Tahoe</td>\n",
              "      <td>2014</td>\n",
              "      <td>Y</td>\n",
              "      <td>NaN</td>\n",
              "    </tr>\n",
              "    <tr>\n",
              "      <th>4</th>\n",
              "      <td>228</td>\n",
              "      <td>44</td>\n",
              "      <td>367455</td>\n",
              "      <td>2014-06-06</td>\n",
              "      <td>IL</td>\n",
              "      <td>500/1000</td>\n",
              "      <td>1000</td>\n",
              "      <td>1583.91</td>\n",
              "      <td>6000000</td>\n",
              "      <td>610706</td>\n",
              "      <td>MALE</td>\n",
              "      <td>Associate</td>\n",
              "      <td>sales</td>\n",
              "      <td>board-games</td>\n",
              "      <td>unmarried</td>\n",
              "      <td>66000</td>\n",
              "      <td>-46000</td>\n",
              "      <td>2015-02-17</td>\n",
              "      <td>Vehicle Theft</td>\n",
              "      <td>?</td>\n",
              "      <td>Minor Damage</td>\n",
              "      <td>None</td>\n",
              "      <td>NY</td>\n",
              "      <td>Arlington</td>\n",
              "      <td>3041 3rd Ave</td>\n",
              "      <td>20</td>\n",
              "      <td>1</td>\n",
              "      <td>NO</td>\n",
              "      <td>0</td>\n",
              "      <td>1</td>\n",
              "      <td>NO</td>\n",
              "      <td>6500</td>\n",
              "      <td>1300</td>\n",
              "      <td>650</td>\n",
              "      <td>4550</td>\n",
              "      <td>Accura</td>\n",
              "      <td>RSX</td>\n",
              "      <td>2009</td>\n",
              "      <td>N</td>\n",
              "      <td>NaN</td>\n",
              "    </tr>\n",
              "  </tbody>\n",
              "</table>\n",
              "</div>"
            ],
            "text/plain": [
              "   months_as_customer  age  policy_number  ... auto_year fraud_reported _c39\n",
              "0                 328   48         521585  ...      2004              Y  NaN\n",
              "1                 228   42         342868  ...      2007              Y  NaN\n",
              "2                 134   29         687698  ...      2007              N  NaN\n",
              "3                 256   41         227811  ...      2014              Y  NaN\n",
              "4                 228   44         367455  ...      2009              N  NaN\n",
              "\n",
              "[5 rows x 40 columns]"
            ]
          },
          "metadata": {
            "tags": []
          },
          "execution_count": 179
        }
      ]
    },
    {
      "cell_type": "code",
      "metadata": {
        "colab": {
          "base_uri": "https://localhost:8080/",
          "height": 330
        },
        "id": "NYHZ_1Y8rqZV",
        "outputId": "8c37c914-6176-42ef-f4fb-8ef72b136068"
      },
      "source": [
        "data.tail()"
      ],
      "execution_count": 180,
      "outputs": [
        {
          "output_type": "execute_result",
          "data": {
            "text/html": [
              "<div>\n",
              "<style scoped>\n",
              "    .dataframe tbody tr th:only-of-type {\n",
              "        vertical-align: middle;\n",
              "    }\n",
              "\n",
              "    .dataframe tbody tr th {\n",
              "        vertical-align: top;\n",
              "    }\n",
              "\n",
              "    .dataframe thead th {\n",
              "        text-align: right;\n",
              "    }\n",
              "</style>\n",
              "<table border=\"1\" class=\"dataframe\">\n",
              "  <thead>\n",
              "    <tr style=\"text-align: right;\">\n",
              "      <th></th>\n",
              "      <th>months_as_customer</th>\n",
              "      <th>age</th>\n",
              "      <th>policy_number</th>\n",
              "      <th>policy_bind_date</th>\n",
              "      <th>policy_state</th>\n",
              "      <th>policy_csl</th>\n",
              "      <th>policy_deductable</th>\n",
              "      <th>policy_annual_premium</th>\n",
              "      <th>umbrella_limit</th>\n",
              "      <th>insured_zip</th>\n",
              "      <th>insured_sex</th>\n",
              "      <th>insured_education_level</th>\n",
              "      <th>insured_occupation</th>\n",
              "      <th>insured_hobbies</th>\n",
              "      <th>insured_relationship</th>\n",
              "      <th>capital-gains</th>\n",
              "      <th>capital-loss</th>\n",
              "      <th>incident_date</th>\n",
              "      <th>incident_type</th>\n",
              "      <th>collision_type</th>\n",
              "      <th>incident_severity</th>\n",
              "      <th>authorities_contacted</th>\n",
              "      <th>incident_state</th>\n",
              "      <th>incident_city</th>\n",
              "      <th>incident_location</th>\n",
              "      <th>incident_hour_of_the_day</th>\n",
              "      <th>number_of_vehicles_involved</th>\n",
              "      <th>property_damage</th>\n",
              "      <th>bodily_injuries</th>\n",
              "      <th>witnesses</th>\n",
              "      <th>police_report_available</th>\n",
              "      <th>total_claim_amount</th>\n",
              "      <th>injury_claim</th>\n",
              "      <th>property_claim</th>\n",
              "      <th>vehicle_claim</th>\n",
              "      <th>auto_make</th>\n",
              "      <th>auto_model</th>\n",
              "      <th>auto_year</th>\n",
              "      <th>fraud_reported</th>\n",
              "      <th>_c39</th>\n",
              "    </tr>\n",
              "  </thead>\n",
              "  <tbody>\n",
              "    <tr>\n",
              "      <th>995</th>\n",
              "      <td>3</td>\n",
              "      <td>38</td>\n",
              "      <td>941851</td>\n",
              "      <td>1991-07-16</td>\n",
              "      <td>OH</td>\n",
              "      <td>500/1000</td>\n",
              "      <td>1000</td>\n",
              "      <td>1310.80</td>\n",
              "      <td>0</td>\n",
              "      <td>431289</td>\n",
              "      <td>FEMALE</td>\n",
              "      <td>Masters</td>\n",
              "      <td>craft-repair</td>\n",
              "      <td>paintball</td>\n",
              "      <td>unmarried</td>\n",
              "      <td>0</td>\n",
              "      <td>0</td>\n",
              "      <td>2015-02-22</td>\n",
              "      <td>Single Vehicle Collision</td>\n",
              "      <td>Front Collision</td>\n",
              "      <td>Minor Damage</td>\n",
              "      <td>Fire</td>\n",
              "      <td>NC</td>\n",
              "      <td>Northbrook</td>\n",
              "      <td>6045 Andromedia St</td>\n",
              "      <td>20</td>\n",
              "      <td>1</td>\n",
              "      <td>YES</td>\n",
              "      <td>0</td>\n",
              "      <td>1</td>\n",
              "      <td>?</td>\n",
              "      <td>87200</td>\n",
              "      <td>17440</td>\n",
              "      <td>8720</td>\n",
              "      <td>61040</td>\n",
              "      <td>Honda</td>\n",
              "      <td>Accord</td>\n",
              "      <td>2006</td>\n",
              "      <td>N</td>\n",
              "      <td>NaN</td>\n",
              "    </tr>\n",
              "    <tr>\n",
              "      <th>996</th>\n",
              "      <td>285</td>\n",
              "      <td>41</td>\n",
              "      <td>186934</td>\n",
              "      <td>2014-01-05</td>\n",
              "      <td>IL</td>\n",
              "      <td>100/300</td>\n",
              "      <td>1000</td>\n",
              "      <td>1436.79</td>\n",
              "      <td>0</td>\n",
              "      <td>608177</td>\n",
              "      <td>FEMALE</td>\n",
              "      <td>PhD</td>\n",
              "      <td>prof-specialty</td>\n",
              "      <td>sleeping</td>\n",
              "      <td>wife</td>\n",
              "      <td>70900</td>\n",
              "      <td>0</td>\n",
              "      <td>2015-01-24</td>\n",
              "      <td>Single Vehicle Collision</td>\n",
              "      <td>Rear Collision</td>\n",
              "      <td>Major Damage</td>\n",
              "      <td>Fire</td>\n",
              "      <td>SC</td>\n",
              "      <td>Northbend</td>\n",
              "      <td>3092 Texas Drive</td>\n",
              "      <td>23</td>\n",
              "      <td>1</td>\n",
              "      <td>YES</td>\n",
              "      <td>2</td>\n",
              "      <td>3</td>\n",
              "      <td>?</td>\n",
              "      <td>108480</td>\n",
              "      <td>18080</td>\n",
              "      <td>18080</td>\n",
              "      <td>72320</td>\n",
              "      <td>Volkswagen</td>\n",
              "      <td>Passat</td>\n",
              "      <td>2015</td>\n",
              "      <td>N</td>\n",
              "      <td>NaN</td>\n",
              "    </tr>\n",
              "    <tr>\n",
              "      <th>997</th>\n",
              "      <td>130</td>\n",
              "      <td>34</td>\n",
              "      <td>918516</td>\n",
              "      <td>2003-02-17</td>\n",
              "      <td>OH</td>\n",
              "      <td>250/500</td>\n",
              "      <td>500</td>\n",
              "      <td>1383.49</td>\n",
              "      <td>3000000</td>\n",
              "      <td>442797</td>\n",
              "      <td>FEMALE</td>\n",
              "      <td>Masters</td>\n",
              "      <td>armed-forces</td>\n",
              "      <td>bungie-jumping</td>\n",
              "      <td>other-relative</td>\n",
              "      <td>35100</td>\n",
              "      <td>0</td>\n",
              "      <td>2015-01-23</td>\n",
              "      <td>Multi-vehicle Collision</td>\n",
              "      <td>Side Collision</td>\n",
              "      <td>Minor Damage</td>\n",
              "      <td>Police</td>\n",
              "      <td>NC</td>\n",
              "      <td>Arlington</td>\n",
              "      <td>7629 5th St</td>\n",
              "      <td>4</td>\n",
              "      <td>3</td>\n",
              "      <td>?</td>\n",
              "      <td>2</td>\n",
              "      <td>3</td>\n",
              "      <td>YES</td>\n",
              "      <td>67500</td>\n",
              "      <td>7500</td>\n",
              "      <td>7500</td>\n",
              "      <td>52500</td>\n",
              "      <td>Suburu</td>\n",
              "      <td>Impreza</td>\n",
              "      <td>1996</td>\n",
              "      <td>N</td>\n",
              "      <td>NaN</td>\n",
              "    </tr>\n",
              "    <tr>\n",
              "      <th>998</th>\n",
              "      <td>458</td>\n",
              "      <td>62</td>\n",
              "      <td>533940</td>\n",
              "      <td>2011-11-18</td>\n",
              "      <td>IL</td>\n",
              "      <td>500/1000</td>\n",
              "      <td>2000</td>\n",
              "      <td>1356.92</td>\n",
              "      <td>5000000</td>\n",
              "      <td>441714</td>\n",
              "      <td>MALE</td>\n",
              "      <td>Associate</td>\n",
              "      <td>handlers-cleaners</td>\n",
              "      <td>base-jumping</td>\n",
              "      <td>wife</td>\n",
              "      <td>0</td>\n",
              "      <td>0</td>\n",
              "      <td>2015-02-26</td>\n",
              "      <td>Single Vehicle Collision</td>\n",
              "      <td>Rear Collision</td>\n",
              "      <td>Major Damage</td>\n",
              "      <td>Other</td>\n",
              "      <td>NY</td>\n",
              "      <td>Arlington</td>\n",
              "      <td>6128 Elm Lane</td>\n",
              "      <td>2</td>\n",
              "      <td>1</td>\n",
              "      <td>?</td>\n",
              "      <td>0</td>\n",
              "      <td>1</td>\n",
              "      <td>YES</td>\n",
              "      <td>46980</td>\n",
              "      <td>5220</td>\n",
              "      <td>5220</td>\n",
              "      <td>36540</td>\n",
              "      <td>Audi</td>\n",
              "      <td>A5</td>\n",
              "      <td>1998</td>\n",
              "      <td>N</td>\n",
              "      <td>NaN</td>\n",
              "    </tr>\n",
              "    <tr>\n",
              "      <th>999</th>\n",
              "      <td>456</td>\n",
              "      <td>60</td>\n",
              "      <td>556080</td>\n",
              "      <td>1996-11-11</td>\n",
              "      <td>OH</td>\n",
              "      <td>250/500</td>\n",
              "      <td>1000</td>\n",
              "      <td>766.19</td>\n",
              "      <td>0</td>\n",
              "      <td>612260</td>\n",
              "      <td>FEMALE</td>\n",
              "      <td>Associate</td>\n",
              "      <td>sales</td>\n",
              "      <td>kayaking</td>\n",
              "      <td>husband</td>\n",
              "      <td>0</td>\n",
              "      <td>0</td>\n",
              "      <td>2015-02-26</td>\n",
              "      <td>Parked Car</td>\n",
              "      <td>?</td>\n",
              "      <td>Minor Damage</td>\n",
              "      <td>Police</td>\n",
              "      <td>WV</td>\n",
              "      <td>Columbus</td>\n",
              "      <td>1416 Cherokee Ridge</td>\n",
              "      <td>6</td>\n",
              "      <td>1</td>\n",
              "      <td>?</td>\n",
              "      <td>0</td>\n",
              "      <td>3</td>\n",
              "      <td>?</td>\n",
              "      <td>5060</td>\n",
              "      <td>460</td>\n",
              "      <td>920</td>\n",
              "      <td>3680</td>\n",
              "      <td>Mercedes</td>\n",
              "      <td>E400</td>\n",
              "      <td>2007</td>\n",
              "      <td>N</td>\n",
              "      <td>NaN</td>\n",
              "    </tr>\n",
              "  </tbody>\n",
              "</table>\n",
              "</div>"
            ],
            "text/plain": [
              "     months_as_customer  age  policy_number  ... auto_year fraud_reported _c39\n",
              "995                   3   38         941851  ...      2006              N  NaN\n",
              "996                 285   41         186934  ...      2015              N  NaN\n",
              "997                 130   34         918516  ...      1996              N  NaN\n",
              "998                 458   62         533940  ...      1998              N  NaN\n",
              "999                 456   60         556080  ...      2007              N  NaN\n",
              "\n",
              "[5 rows x 40 columns]"
            ]
          },
          "metadata": {
            "tags": []
          },
          "execution_count": 180
        }
      ]
    },
    {
      "cell_type": "markdown",
      "metadata": {
        "id": "Wm2d6et2s2sa"
      },
      "source": [
        "# Info about dataset"
      ]
    },
    {
      "cell_type": "code",
      "metadata": {
        "id": "x4bNlbrFs5Mh",
        "colab": {
          "base_uri": "https://localhost:8080/"
        },
        "outputId": "8c647bfb-5dfc-4f49-cbe0-f481665050c4"
      },
      "source": [
        "data.info()"
      ],
      "execution_count": 181,
      "outputs": [
        {
          "output_type": "stream",
          "text": [
            "<class 'pandas.core.frame.DataFrame'>\n",
            "RangeIndex: 1000 entries, 0 to 999\n",
            "Data columns (total 40 columns):\n",
            " #   Column                       Non-Null Count  Dtype  \n",
            "---  ------                       --------------  -----  \n",
            " 0   months_as_customer           1000 non-null   int64  \n",
            " 1   age                          1000 non-null   int64  \n",
            " 2   policy_number                1000 non-null   int64  \n",
            " 3   policy_bind_date             1000 non-null   object \n",
            " 4   policy_state                 1000 non-null   object \n",
            " 5   policy_csl                   1000 non-null   object \n",
            " 6   policy_deductable            1000 non-null   int64  \n",
            " 7   policy_annual_premium        1000 non-null   float64\n",
            " 8   umbrella_limit               1000 non-null   int64  \n",
            " 9   insured_zip                  1000 non-null   int64  \n",
            " 10  insured_sex                  1000 non-null   object \n",
            " 11  insured_education_level      1000 non-null   object \n",
            " 12  insured_occupation           1000 non-null   object \n",
            " 13  insured_hobbies              1000 non-null   object \n",
            " 14  insured_relationship         1000 non-null   object \n",
            " 15  capital-gains                1000 non-null   int64  \n",
            " 16  capital-loss                 1000 non-null   int64  \n",
            " 17  incident_date                1000 non-null   object \n",
            " 18  incident_type                1000 non-null   object \n",
            " 19  collision_type               1000 non-null   object \n",
            " 20  incident_severity            1000 non-null   object \n",
            " 21  authorities_contacted        1000 non-null   object \n",
            " 22  incident_state               1000 non-null   object \n",
            " 23  incident_city                1000 non-null   object \n",
            " 24  incident_location            1000 non-null   object \n",
            " 25  incident_hour_of_the_day     1000 non-null   int64  \n",
            " 26  number_of_vehicles_involved  1000 non-null   int64  \n",
            " 27  property_damage              1000 non-null   object \n",
            " 28  bodily_injuries              1000 non-null   int64  \n",
            " 29  witnesses                    1000 non-null   int64  \n",
            " 30  police_report_available      1000 non-null   object \n",
            " 31  total_claim_amount           1000 non-null   int64  \n",
            " 32  injury_claim                 1000 non-null   int64  \n",
            " 33  property_claim               1000 non-null   int64  \n",
            " 34  vehicle_claim                1000 non-null   int64  \n",
            " 35  auto_make                    1000 non-null   object \n",
            " 36  auto_model                   1000 non-null   object \n",
            " 37  auto_year                    1000 non-null   int64  \n",
            " 38  fraud_reported               1000 non-null   object \n",
            " 39  _c39                         0 non-null      float64\n",
            "dtypes: float64(2), int64(17), object(21)\n",
            "memory usage: 312.6+ KB\n"
          ],
          "name": "stdout"
        }
      ]
    },
    {
      "cell_type": "code",
      "metadata": {
        "id": "S0pZm-a2ybUS",
        "colab": {
          "base_uri": "https://localhost:8080/"
        },
        "outputId": "b6f6dd18-944d-4d86-8d8a-01740a6daeaf"
      },
      "source": [
        "print (\"Rows     : \" ,data.shape[0])\n",
        "print (\"Columns  : \" ,data.shape[1])\n",
        "print (\"\\nFeatures : \\n\" ,data.columns.tolist())\n",
        "print (\"\\nMissing values :  \", data.isnull().sum().values.sum())"
      ],
      "execution_count": 182,
      "outputs": [
        {
          "output_type": "stream",
          "text": [
            "Rows     :  1000\n",
            "Columns  :  40\n",
            "\n",
            "Features : \n",
            " ['months_as_customer', 'age', 'policy_number', 'policy_bind_date', 'policy_state', 'policy_csl', 'policy_deductable', 'policy_annual_premium', 'umbrella_limit', 'insured_zip', 'insured_sex', 'insured_education_level', 'insured_occupation', 'insured_hobbies', 'insured_relationship', 'capital-gains', 'capital-loss', 'incident_date', 'incident_type', 'collision_type', 'incident_severity', 'authorities_contacted', 'incident_state', 'incident_city', 'incident_location', 'incident_hour_of_the_day', 'number_of_vehicles_involved', 'property_damage', 'bodily_injuries', 'witnesses', 'police_report_available', 'total_claim_amount', 'injury_claim', 'property_claim', 'vehicle_claim', 'auto_make', 'auto_model', 'auto_year', 'fraud_reported', '_c39']\n",
            "\n",
            "Missing values :   1000\n"
          ],
          "name": "stdout"
        }
      ]
    },
    {
      "cell_type": "markdown",
      "metadata": {
        "id": "5mipBUtWuW06"
      },
      "source": [
        "## Unique values in dataset"
      ]
    },
    {
      "cell_type": "code",
      "metadata": {
        "colab": {
          "base_uri": "https://localhost:8080/"
        },
        "id": "nda2ibQDtLMs",
        "outputId": "90409421-d12c-4278-ac79-1561ecbae0c3"
      },
      "source": [
        "data.nunique()"
      ],
      "execution_count": 183,
      "outputs": [
        {
          "output_type": "execute_result",
          "data": {
            "text/plain": [
              "months_as_customer              391\n",
              "age                              46\n",
              "policy_number                  1000\n",
              "policy_bind_date                951\n",
              "policy_state                      3\n",
              "policy_csl                        3\n",
              "policy_deductable                 3\n",
              "policy_annual_premium           991\n",
              "umbrella_limit                   11\n",
              "insured_zip                     995\n",
              "insured_sex                       2\n",
              "insured_education_level           7\n",
              "insured_occupation               14\n",
              "insured_hobbies                  20\n",
              "insured_relationship              6\n",
              "capital-gains                   338\n",
              "capital-loss                    354\n",
              "incident_date                    60\n",
              "incident_type                     4\n",
              "collision_type                    4\n",
              "incident_severity                 4\n",
              "authorities_contacted             5\n",
              "incident_state                    7\n",
              "incident_city                     7\n",
              "incident_location              1000\n",
              "incident_hour_of_the_day         24\n",
              "number_of_vehicles_involved       4\n",
              "property_damage                   3\n",
              "bodily_injuries                   3\n",
              "witnesses                         4\n",
              "police_report_available           3\n",
              "total_claim_amount              763\n",
              "injury_claim                    638\n",
              "property_claim                  626\n",
              "vehicle_claim                   726\n",
              "auto_make                        14\n",
              "auto_model                       39\n",
              "auto_year                        21\n",
              "fraud_reported                    2\n",
              "_c39                              0\n",
              "dtype: int64"
            ]
          },
          "metadata": {
            "tags": []
          },
          "execution_count": 183
        }
      ]
    },
    {
      "cell_type": "markdown",
      "metadata": {
        "id": "T-sfyRjgu5uG"
      },
      "source": [
        "**Count of fraud reported**"
      ]
    },
    {
      "cell_type": "code",
      "metadata": {
        "colab": {
          "base_uri": "https://localhost:8080/"
        },
        "id": "PG1XmldMuQSB",
        "outputId": "67ac782e-0ce3-44d0-e4ea-65ef0b07e27f"
      },
      "source": [
        "data['fraud_reported'].value_counts()"
      ],
      "execution_count": 184,
      "outputs": [
        {
          "output_type": "execute_result",
          "data": {
            "text/plain": [
              "N    753\n",
              "Y    247\n",
              "Name: fraud_reported, dtype: int64"
            ]
          },
          "metadata": {
            "tags": []
          },
          "execution_count": 184
        }
      ]
    },
    {
      "cell_type": "markdown",
      "metadata": {
        "id": "hFkgKFOCvITY"
      },
      "source": [
        "**Plot for count of fraud reported**"
      ]
    },
    {
      "cell_type": "code",
      "metadata": {
        "colab": {
          "base_uri": "https://localhost:8080/",
          "height": 224
        },
        "id": "DWIhz_qwvlyT",
        "outputId": "4a209bd3-ece3-4961-d914-bf29caa44523"
      },
      "source": [
        "data['fraud_reported'] = pd.Series(map(lambda x: dict(Y=1, N=0)[x],\n",
        "              data['fraud_reported'].values.tolist()), data.index)\n",
        "\n",
        "\n",
        "import matplotlib.pyplot as plt\n",
        "%matplotlib inline\n",
        "data['fraud_reported'].value_counts().plot(kind = 'bar', figsize = (4,3))"
      ],
      "execution_count": 185,
      "outputs": [
        {
          "output_type": "execute_result",
          "data": {
            "text/plain": [
              "<matplotlib.axes._subplots.AxesSubplot at 0x7f82ab0c1590>"
            ]
          },
          "metadata": {
            "tags": []
          },
          "execution_count": 185
        },
        {
          "output_type": "display_data",
          "data": {
            "image/png": "[encoded data removed]",
            "text/plain": [
              "<Figure size 288x216 with 1 Axes>"
            ]
          },
          "metadata": {
            "tags": [],
            "needs_background": "light"
          }
        }
      ]
    },
    {
      "cell_type": "markdown",
      "metadata": {
        "id": "ZKPmlrWDzPnw"
      },
      "source": [
        "**Count of fraud reported by state**"
      ]
    },
    {
      "cell_type": "code",
      "metadata": {
        "colab": {
          "base_uri": "https://localhost:8080/",
          "height": 332
        },
        "id": "IZ_ww2MfxNoz",
        "outputId": "592e3b4e-d3c7-4cde-c18d-6727cb6bc8d2"
      },
      "source": [
        "data.groupby('fraud_reported').agg({'policy_number':'std'})\n",
        "data.drop('policy_number',axis=1,inplace=True)\n",
        "sns.countplot(data.policy_state,orient='v',hue=data['fraud_reported'])"
      ],
      "execution_count": 186,
      "outputs": [
        {
          "output_type": "stream",
          "text": [
            "/usr/local/lib/python3.7/dist-packages/seaborn/_decorators.py:43: FutureWarning: Pass the following variable as a keyword arg: x. From version 0.12, the only valid positional argument will be `data`, and passing other arguments without an explicit keyword will result in an error or misinterpretation.\n",
            "  FutureWarning\n"
          ],
          "name": "stderr"
        },
        {
          "output_type": "execute_result",
          "data": {
            "text/plain": [
              "<matplotlib.axes._subplots.AxesSubplot at 0x7f82b9e75e10>"
            ]
          },
          "metadata": {
            "tags": []
          },
          "execution_count": 186
        },
        {
          "output_type": "display_data",
          "data": {
            "image/png": "[encoded data removed]",
            "text/plain": [
              "<Figure size 432x288 with 1 Axes>"
            ]
          },
          "metadata": {
            "tags": [],
            "needs_background": "light"
          }
        }
      ]
    },
    {
      "cell_type": "markdown",
      "metadata": {
        "id": "XXle2Lamzc9i"
      },
      "source": [
        "**Plot b/w Amount claimed and Number of customers**"
      ]
    },
    {
      "cell_type": "code",
      "metadata": {
        "colab": {
          "base_uri": "https://localhost:8080/",
          "height": 312
        },
        "id": "HVEV4IFL5WSj",
        "outputId": "2cb9b177-eaef-47b7-9408-44615274520d"
      },
      "source": [
        "plt.hist(data.total_claim_amount)\n",
        "plt.title(\"Histogram of total amount claimed by the customers\")\n",
        "plt.xlabel(\"Amount claimed\")\n",
        "plt.ylabel(\"Number of customers\")"
      ],
      "execution_count": 187,
      "outputs": [
        {
          "output_type": "execute_result",
          "data": {
            "text/plain": [
              "Text(0, 0.5, 'Number of customers')"
            ]
          },
          "metadata": {
            "tags": []
          },
          "execution_count": 187
        },
        {
          "output_type": "display_data",
          "data": {
            "image/png": "[encoded data removed]",
            "text/plain": [
              "<Figure size 432x288 with 1 Axes>"
            ]
          },
          "metadata": {
            "tags": [],
            "needs_background": "light"
          }
        }
      ]
    },
    {
      "cell_type": "markdown",
      "metadata": {
        "id": "QE5gOHP5zcKy"
      },
      "source": [
        "Data cleaning & transformation\n",
        "\n"
      ]
    },
    {
      "cell_type": "code",
      "metadata": {
        "colab": {
          "base_uri": "https://localhost:8080/"
        },
        "id": "SmpcURfdNqHu",
        "outputId": "c49eb9b5-d50d-4777-9bcd-7133e399af25"
      },
      "source": [
        "data.isna().sum()"
      ],
      "execution_count": 188,
      "outputs": [
        {
          "output_type": "execute_result",
          "data": {
            "text/plain": [
              "months_as_customer                0\n",
              "age                               0\n",
              "policy_bind_date                  0\n",
              "policy_state                      0\n",
              "policy_csl                        0\n",
              "policy_deductable                 0\n",
              "policy_annual_premium             0\n",
              "umbrella_limit                    0\n",
              "insured_zip                       0\n",
              "insured_sex                       0\n",
              "insured_education_level           0\n",
              "insured_occupation                0\n",
              "insured_hobbies                   0\n",
              "insured_relationship              0\n",
              "capital-gains                     0\n",
              "capital-loss                      0\n",
              "incident_date                     0\n",
              "incident_type                     0\n",
              "collision_type                    0\n",
              "incident_severity                 0\n",
              "authorities_contacted             0\n",
              "incident_state                    0\n",
              "incident_city                     0\n",
              "incident_location                 0\n",
              "incident_hour_of_the_day          0\n",
              "number_of_vehicles_involved       0\n",
              "property_damage                   0\n",
              "bodily_injuries                   0\n",
              "witnesses                         0\n",
              "police_report_available           0\n",
              "total_claim_amount                0\n",
              "injury_claim                      0\n",
              "property_claim                    0\n",
              "vehicle_claim                     0\n",
              "auto_make                         0\n",
              "auto_model                        0\n",
              "auto_year                         0\n",
              "fraud_reported                    0\n",
              "_c39                           1000\n",
              "dtype: int64"
            ]
          },
          "metadata": {
            "tags": []
          },
          "execution_count": 188
        }
      ]
    },
    {
      "cell_type": "code",
      "metadata": {
        "id": "_rkFPFInNuiH"
      },
      "source": [
        "data['collision_type'] = data['collision_type'].fillna(data['collision_type'].mode()[0])"
      ],
      "execution_count": 189,
      "outputs": []
    },
    {
      "cell_type": "code",
      "metadata": {
        "id": "ZkpTndg3Nx76"
      },
      "source": [
        "data['property_damage'] = data['property_damage'].fillna(data['property_damage'].mode()[0])"
      ],
      "execution_count": 190,
      "outputs": []
    },
    {
      "cell_type": "code",
      "metadata": {
        "id": "TLneryQ8NysU"
      },
      "source": [
        "data['police_report_available'] = data['police_report_available'].fillna(data['police_report_available'].mode()[0])"
      ],
      "execution_count": 191,
      "outputs": []
    },
    {
      "cell_type": "code",
      "metadata": {
        "colab": {
          "base_uri": "https://localhost:8080/"
        },
        "id": "T66s2f_WFRUG",
        "outputId": "7a945c0e-57d4-438d-99d9-5f961d88fb92"
      },
      "source": [
        "data.isnull().sum()"
      ],
      "execution_count": 192,
      "outputs": [
        {
          "output_type": "execute_result",
          "data": {
            "text/plain": [
              "months_as_customer                0\n",
              "age                               0\n",
              "policy_bind_date                  0\n",
              "policy_state                      0\n",
              "policy_csl                        0\n",
              "policy_deductable                 0\n",
              "policy_annual_premium             0\n",
              "umbrella_limit                    0\n",
              "insured_zip                       0\n",
              "insured_sex                       0\n",
              "insured_education_level           0\n",
              "insured_occupation                0\n",
              "insured_hobbies                   0\n",
              "insured_relationship              0\n",
              "capital-gains                     0\n",
              "capital-loss                      0\n",
              "incident_date                     0\n",
              "incident_type                     0\n",
              "collision_type                    0\n",
              "incident_severity                 0\n",
              "authorities_contacted             0\n",
              "incident_state                    0\n",
              "incident_city                     0\n",
              "incident_location                 0\n",
              "incident_hour_of_the_day          0\n",
              "number_of_vehicles_involved       0\n",
              "property_damage                   0\n",
              "bodily_injuries                   0\n",
              "witnesses                         0\n",
              "police_report_available           0\n",
              "total_claim_amount                0\n",
              "injury_claim                      0\n",
              "property_claim                    0\n",
              "vehicle_claim                     0\n",
              "auto_make                         0\n",
              "auto_model                        0\n",
              "auto_year                         0\n",
              "fraud_reported                    0\n",
              "_c39                           1000\n",
              "dtype: int64"
            ]
          },
          "metadata": {
            "tags": []
          },
          "execution_count": 192
        }
      ]
    },
    {
      "cell_type": "code",
      "metadata": {
        "id": "CJZ-THCLzing",
        "colab": {
          "base_uri": "https://localhost:8080/",
          "height": 600
        },
        "outputId": "221c7e62-c1d7-4fcf-f76e-646af41b4a4e"
      },
      "source": [
        "data.drop('_c39', inplace=True, axis = 1)\n",
        "data\n",
        "\n"
      ],
      "execution_count": 193,
      "outputs": [
        {
          "output_type": "execute_result",
          "data": {
            "text/html": [
              "<div>\n",
              "<style scoped>\n",
              "    .dataframe tbody tr th:only-of-type {\n",
              "        vertical-align: middle;\n",
              "    }\n",
              "\n",
              "    .dataframe tbody tr th {\n",
              "        vertical-align: top;\n",
              "    }\n",
              "\n",
              "    .dataframe thead th {\n",
              "        text-align: right;\n",
              "    }\n",
              "</style>\n",
              "<table border=\"1\" class=\"dataframe\">\n",
              "  <thead>\n",
              "    <tr style=\"text-align: right;\">\n",
              "      <th></th>\n",
              "      <th>months_as_customer</th>\n",
              "      <th>age</th>\n",
              "      <th>policy_bind_date</th>\n",
              "      <th>policy_state</th>\n",
              "      <th>policy_csl</th>\n",
              "      <th>policy_deductable</th>\n",
              "      <th>policy_annual_premium</th>\n",
              "      <th>umbrella_limit</th>\n",
              "      <th>insured_zip</th>\n",
              "      <th>insured_sex</th>\n",
              "      <th>insured_education_level</th>\n",
              "      <th>insured_occupation</th>\n",
              "      <th>insured_hobbies</th>\n",
              "      <th>insured_relationship</th>\n",
              "      <th>capital-gains</th>\n",
              "      <th>capital-loss</th>\n",
              "      <th>incident_date</th>\n",
              "      <th>incident_type</th>\n",
              "      <th>collision_type</th>\n",
              "      <th>incident_severity</th>\n",
              "      <th>authorities_contacted</th>\n",
              "      <th>incident_state</th>\n",
              "      <th>incident_city</th>\n",
              "      <th>incident_location</th>\n",
              "      <th>incident_hour_of_the_day</th>\n",
              "      <th>number_of_vehicles_involved</th>\n",
              "      <th>property_damage</th>\n",
              "      <th>bodily_injuries</th>\n",
              "      <th>witnesses</th>\n",
              "      <th>police_report_available</th>\n",
              "      <th>total_claim_amount</th>\n",
              "      <th>injury_claim</th>\n",
              "      <th>property_claim</th>\n",
              "      <th>vehicle_claim</th>\n",
              "      <th>auto_make</th>\n",
              "      <th>auto_model</th>\n",
              "      <th>auto_year</th>\n",
              "      <th>fraud_reported</th>\n",
              "    </tr>\n",
              "  </thead>\n",
              "  <tbody>\n",
              "    <tr>\n",
              "      <th>0</th>\n",
              "      <td>328</td>\n",
              "      <td>48</td>\n",
              "      <td>2014-10-17</td>\n",
              "      <td>OH</td>\n",
              "      <td>250/500</td>\n",
              "      <td>1000</td>\n",
              "      <td>1406.91</td>\n",
              "      <td>0</td>\n",
              "      <td>466132</td>\n",
              "      <td>MALE</td>\n",
              "      <td>MD</td>\n",
              "      <td>craft-repair</td>\n",
              "      <td>sleeping</td>\n",
              "      <td>husband</td>\n",
              "      <td>53300</td>\n",
              "      <td>0</td>\n",
              "      <td>2015-01-25</td>\n",
              "      <td>Single Vehicle Collision</td>\n",
              "      <td>Side Collision</td>\n",
              "      <td>Major Damage</td>\n",
              "      <td>Police</td>\n",
              "      <td>SC</td>\n",
              "      <td>Columbus</td>\n",
              "      <td>9935 4th Drive</td>\n",
              "      <td>5</td>\n",
              "      <td>1</td>\n",
              "      <td>YES</td>\n",
              "      <td>1</td>\n",
              "      <td>2</td>\n",
              "      <td>YES</td>\n",
              "      <td>71610</td>\n",
              "      <td>6510</td>\n",
              "      <td>13020</td>\n",
              "      <td>52080</td>\n",
              "      <td>Saab</td>\n",
              "      <td>92x</td>\n",
              "      <td>2004</td>\n",
              "      <td>1</td>\n",
              "    </tr>\n",
              "    <tr>\n",
              "      <th>1</th>\n",
              "      <td>228</td>\n",
              "      <td>42</td>\n",
              "      <td>2006-06-27</td>\n",
              "      <td>IN</td>\n",
              "      <td>250/500</td>\n",
              "      <td>2000</td>\n",
              "      <td>1197.22</td>\n",
              "      <td>5000000</td>\n",
              "      <td>468176</td>\n",
              "      <td>MALE</td>\n",
              "      <td>MD</td>\n",
              "      <td>machine-op-inspct</td>\n",
              "      <td>reading</td>\n",
              "      <td>other-relative</td>\n",
              "      <td>0</td>\n",
              "      <td>0</td>\n",
              "      <td>2015-01-21</td>\n",
              "      <td>Vehicle Theft</td>\n",
              "      <td>?</td>\n",
              "      <td>Minor Damage</td>\n",
              "      <td>Police</td>\n",
              "      <td>VA</td>\n",
              "      <td>Riverwood</td>\n",
              "      <td>6608 MLK Hwy</td>\n",
              "      <td>8</td>\n",
              "      <td>1</td>\n",
              "      <td>?</td>\n",
              "      <td>0</td>\n",
              "      <td>0</td>\n",
              "      <td>?</td>\n",
              "      <td>5070</td>\n",
              "      <td>780</td>\n",
              "      <td>780</td>\n",
              "      <td>3510</td>\n",
              "      <td>Mercedes</td>\n",
              "      <td>E400</td>\n",
              "      <td>2007</td>\n",
              "      <td>1</td>\n",
              "    </tr>\n",
              "    <tr>\n",
              "      <th>2</th>\n",
              "      <td>134</td>\n",
              "      <td>29</td>\n",
              "      <td>2000-09-06</td>\n",
              "      <td>OH</td>\n",
              "      <td>100/300</td>\n",
              "      <td>2000</td>\n",
              "      <td>1413.14</td>\n",
              "      <td>5000000</td>\n",
              "      <td>430632</td>\n",
              "      <td>FEMALE</td>\n",
              "      <td>PhD</td>\n",
              "      <td>sales</td>\n",
              "      <td>board-games</td>\n",
              "      <td>own-child</td>\n",
              "      <td>35100</td>\n",
              "      <td>0</td>\n",
              "      <td>2015-02-22</td>\n",
              "      <td>Multi-vehicle Collision</td>\n",
              "      <td>Rear Collision</td>\n",
              "      <td>Minor Damage</td>\n",
              "      <td>Police</td>\n",
              "      <td>NY</td>\n",
              "      <td>Columbus</td>\n",
              "      <td>7121 Francis Lane</td>\n",
              "      <td>7</td>\n",
              "      <td>3</td>\n",
              "      <td>NO</td>\n",
              "      <td>2</td>\n",
              "      <td>3</td>\n",
              "      <td>NO</td>\n",
              "      <td>34650</td>\n",
              "      <td>7700</td>\n",
              "      <td>3850</td>\n",
              "      <td>23100</td>\n",
              "      <td>Dodge</td>\n",
              "      <td>RAM</td>\n",
              "      <td>2007</td>\n",
              "      <td>0</td>\n",
              "    </tr>\n",
              "    <tr>\n",
              "      <th>3</th>\n",
              "      <td>256</td>\n",
              "      <td>41</td>\n",
              "      <td>1990-05-25</td>\n",
              "      <td>IL</td>\n",
              "      <td>250/500</td>\n",
              "      <td>2000</td>\n",
              "      <td>1415.74</td>\n",
              "      <td>6000000</td>\n",
              "      <td>608117</td>\n",
              "      <td>FEMALE</td>\n",
              "      <td>PhD</td>\n",
              "      <td>armed-forces</td>\n",
              "      <td>board-games</td>\n",
              "      <td>unmarried</td>\n",
              "      <td>48900</td>\n",
              "      <td>-62400</td>\n",
              "      <td>2015-01-10</td>\n",
              "      <td>Single Vehicle Collision</td>\n",
              "      <td>Front Collision</td>\n",
              "      <td>Major Damage</td>\n",
              "      <td>Police</td>\n",
              "      <td>OH</td>\n",
              "      <td>Arlington</td>\n",
              "      <td>6956 Maple Drive</td>\n",
              "      <td>5</td>\n",
              "      <td>1</td>\n",
              "      <td>?</td>\n",
              "      <td>1</td>\n",
              "      <td>2</td>\n",
              "      <td>NO</td>\n",
              "      <td>63400</td>\n",
              "      <td>6340</td>\n",
              "      <td>6340</td>\n",
              "      <td>50720</td>\n",
              "      <td>Chevrolet</td>\n",
              "      <td>Tahoe</td>\n",
              "      <td>2014</td>\n",
              "      <td>1</td>\n",
              "    </tr>\n",
              "    <tr>\n",
              "      <th>4</th>\n",
              "      <td>228</td>\n",
              "      <td>44</td>\n",
              "      <td>2014-06-06</td>\n",
              "      <td>IL</td>\n",
              "      <td>500/1000</td>\n",
              "      <td>1000</td>\n",
              "      <td>1583.91</td>\n",
              "      <td>6000000</td>\n",
              "      <td>610706</td>\n",
              "      <td>MALE</td>\n",
              "      <td>Associate</td>\n",
              "      <td>sales</td>\n",
              "      <td>board-games</td>\n",
              "      <td>unmarried</td>\n",
              "      <td>66000</td>\n",
              "      <td>-46000</td>\n",
              "      <td>2015-02-17</td>\n",
              "      <td>Vehicle Theft</td>\n",
              "      <td>?</td>\n",
              "      <td>Minor Damage</td>\n",
              "      <td>None</td>\n",
              "      <td>NY</td>\n",
              "      <td>Arlington</td>\n",
              "      <td>3041 3rd Ave</td>\n",
              "      <td>20</td>\n",
              "      <td>1</td>\n",
              "      <td>NO</td>\n",
              "      <td>0</td>\n",
              "      <td>1</td>\n",
              "      <td>NO</td>\n",
              "      <td>6500</td>\n",
              "      <td>1300</td>\n",
              "      <td>650</td>\n",
              "      <td>4550</td>\n",
              "      <td>Accura</td>\n",
              "      <td>RSX</td>\n",
              "      <td>2009</td>\n",
              "      <td>0</td>\n",
              "    </tr>\n",
              "    <tr>\n",
              "      <th>...</th>\n",
              "      <td>...</td>\n",
              "      <td>...</td>\n",
              "      <td>...</td>\n",
              "      <td>...</td>\n",
              "      <td>...</td>\n",
              "      <td>...</td>\n",
              "      <td>...</td>\n",
              "      <td>...</td>\n",
              "      <td>...</td>\n",
              "      <td>...</td>\n",
              "      <td>...</td>\n",
              "      <td>...</td>\n",
              "      <td>...</td>\n",
              "      <td>...</td>\n",
              "      <td>...</td>\n",
              "      <td>...</td>\n",
              "      <td>...</td>\n",
              "      <td>...</td>\n",
              "      <td>...</td>\n",
              "      <td>...</td>\n",
              "      <td>...</td>\n",
              "      <td>...</td>\n",
              "      <td>...</td>\n",
              "      <td>...</td>\n",
              "      <td>...</td>\n",
              "      <td>...</td>\n",
              "      <td>...</td>\n",
              "      <td>...</td>\n",
              "      <td>...</td>\n",
              "      <td>...</td>\n",
              "      <td>...</td>\n",
              "      <td>...</td>\n",
              "      <td>...</td>\n",
              "      <td>...</td>\n",
              "      <td>...</td>\n",
              "      <td>...</td>\n",
              "      <td>...</td>\n",
              "      <td>...</td>\n",
              "    </tr>\n",
              "    <tr>\n",
              "      <th>995</th>\n",
              "      <td>3</td>\n",
              "      <td>38</td>\n",
              "      <td>1991-07-16</td>\n",
              "      <td>OH</td>\n",
              "      <td>500/1000</td>\n",
              "      <td>1000</td>\n",
              "      <td>1310.80</td>\n",
              "      <td>0</td>\n",
              "      <td>431289</td>\n",
              "      <td>FEMALE</td>\n",
              "      <td>Masters</td>\n",
              "      <td>craft-repair</td>\n",
              "      <td>paintball</td>\n",
              "      <td>unmarried</td>\n",
              "      <td>0</td>\n",
              "      <td>0</td>\n",
              "      <td>2015-02-22</td>\n",
              "      <td>Single Vehicle Collision</td>\n",
              "      <td>Front Collision</td>\n",
              "      <td>Minor Damage</td>\n",
              "      <td>Fire</td>\n",
              "      <td>NC</td>\n",
              "      <td>Northbrook</td>\n",
              "      <td>6045 Andromedia St</td>\n",
              "      <td>20</td>\n",
              "      <td>1</td>\n",
              "      <td>YES</td>\n",
              "      <td>0</td>\n",
              "      <td>1</td>\n",
              "      <td>?</td>\n",
              "      <td>87200</td>\n",
              "      <td>17440</td>\n",
              "      <td>8720</td>\n",
              "      <td>61040</td>\n",
              "      <td>Honda</td>\n",
              "      <td>Accord</td>\n",
              "      <td>2006</td>\n",
              "      <td>0</td>\n",
              "    </tr>\n",
              "    <tr>\n",
              "      <th>996</th>\n",
              "      <td>285</td>\n",
              "      <td>41</td>\n",
              "      <td>2014-01-05</td>\n",
              "      <td>IL</td>\n",
              "      <td>100/300</td>\n",
              "      <td>1000</td>\n",
              "      <td>1436.79</td>\n",
              "      <td>0</td>\n",
              "      <td>608177</td>\n",
              "      <td>FEMALE</td>\n",
              "      <td>PhD</td>\n",
              "      <td>prof-specialty</td>\n",
              "      <td>sleeping</td>\n",
              "      <td>wife</td>\n",
              "      <td>70900</td>\n",
              "      <td>0</td>\n",
              "      <td>2015-01-24</td>\n",
              "      <td>Single Vehicle Collision</td>\n",
              "      <td>Rear Collision</td>\n",
              "      <td>Major Damage</td>\n",
              "      <td>Fire</td>\n",
              "      <td>SC</td>\n",
              "      <td>Northbend</td>\n",
              "      <td>3092 Texas Drive</td>\n",
              "      <td>23</td>\n",
              "      <td>1</td>\n",
              "      <td>YES</td>\n",
              "      <td>2</td>\n",
              "      <td>3</td>\n",
              "      <td>?</td>\n",
              "      <td>108480</td>\n",
              "      <td>18080</td>\n",
              "      <td>18080</td>\n",
              "      <td>72320</td>\n",
              "      <td>Volkswagen</td>\n",
              "      <td>Passat</td>\n",
              "      <td>2015</td>\n",
              "      <td>0</td>\n",
              "    </tr>\n",
              "    <tr>\n",
              "      <th>997</th>\n",
              "      <td>130</td>\n",
              "      <td>34</td>\n",
              "      <td>2003-02-17</td>\n",
              "      <td>OH</td>\n",
              "      <td>250/500</td>\n",
              "      <td>500</td>\n",
              "      <td>1383.49</td>\n",
              "      <td>3000000</td>\n",
              "      <td>442797</td>\n",
              "      <td>FEMALE</td>\n",
              "      <td>Masters</td>\n",
              "      <td>armed-forces</td>\n",
              "      <td>bungie-jumping</td>\n",
              "      <td>other-relative</td>\n",
              "      <td>35100</td>\n",
              "      <td>0</td>\n",
              "      <td>2015-01-23</td>\n",
              "      <td>Multi-vehicle Collision</td>\n",
              "      <td>Side Collision</td>\n",
              "      <td>Minor Damage</td>\n",
              "      <td>Police</td>\n",
              "      <td>NC</td>\n",
              "      <td>Arlington</td>\n",
              "      <td>7629 5th St</td>\n",
              "      <td>4</td>\n",
              "      <td>3</td>\n",
              "      <td>?</td>\n",
              "      <td>2</td>\n",
              "      <td>3</td>\n",
              "      <td>YES</td>\n",
              "      <td>67500</td>\n",
              "      <td>7500</td>\n",
              "      <td>7500</td>\n",
              "      <td>52500</td>\n",
              "      <td>Suburu</td>\n",
              "      <td>Impreza</td>\n",
              "      <td>1996</td>\n",
              "      <td>0</td>\n",
              "    </tr>\n",
              "    <tr>\n",
              "      <th>998</th>\n",
              "      <td>458</td>\n",
              "      <td>62</td>\n",
              "      <td>2011-11-18</td>\n",
              "      <td>IL</td>\n",
              "      <td>500/1000</td>\n",
              "      <td>2000</td>\n",
              "      <td>1356.92</td>\n",
              "      <td>5000000</td>\n",
              "      <td>441714</td>\n",
              "      <td>MALE</td>\n",
              "      <td>Associate</td>\n",
              "      <td>handlers-cleaners</td>\n",
              "      <td>base-jumping</td>\n",
              "      <td>wife</td>\n",
              "      <td>0</td>\n",
              "      <td>0</td>\n",
              "      <td>2015-02-26</td>\n",
              "      <td>Single Vehicle Collision</td>\n",
              "      <td>Rear Collision</td>\n",
              "      <td>Major Damage</td>\n",
              "      <td>Other</td>\n",
              "      <td>NY</td>\n",
              "      <td>Arlington</td>\n",
              "      <td>6128 Elm Lane</td>\n",
              "      <td>2</td>\n",
              "      <td>1</td>\n",
              "      <td>?</td>\n",
              "      <td>0</td>\n",
              "      <td>1</td>\n",
              "      <td>YES</td>\n",
              "      <td>46980</td>\n",
              "      <td>5220</td>\n",
              "      <td>5220</td>\n",
              "      <td>36540</td>\n",
              "      <td>Audi</td>\n",
              "      <td>A5</td>\n",
              "      <td>1998</td>\n",
              "      <td>0</td>\n",
              "    </tr>\n",
              "    <tr>\n",
              "      <th>999</th>\n",
              "      <td>456</td>\n",
              "      <td>60</td>\n",
              "      <td>1996-11-11</td>\n",
              "      <td>OH</td>\n",
              "      <td>250/500</td>\n",
              "      <td>1000</td>\n",
              "      <td>766.19</td>\n",
              "      <td>0</td>\n",
              "      <td>612260</td>\n",
              "      <td>FEMALE</td>\n",
              "      <td>Associate</td>\n",
              "      <td>sales</td>\n",
              "      <td>kayaking</td>\n",
              "      <td>husband</td>\n",
              "      <td>0</td>\n",
              "      <td>0</td>\n",
              "      <td>2015-02-26</td>\n",
              "      <td>Parked Car</td>\n",
              "      <td>?</td>\n",
              "      <td>Minor Damage</td>\n",
              "      <td>Police</td>\n",
              "      <td>WV</td>\n",
              "      <td>Columbus</td>\n",
              "      <td>1416 Cherokee Ridge</td>\n",
              "      <td>6</td>\n",
              "      <td>1</td>\n",
              "      <td>?</td>\n",
              "      <td>0</td>\n",
              "      <td>3</td>\n",
              "      <td>?</td>\n",
              "      <td>5060</td>\n",
              "      <td>460</td>\n",
              "      <td>920</td>\n",
              "      <td>3680</td>\n",
              "      <td>Mercedes</td>\n",
              "      <td>E400</td>\n",
              "      <td>2007</td>\n",
              "      <td>0</td>\n",
              "    </tr>\n",
              "  </tbody>\n",
              "</table>\n",
              "<p>1000 rows × 38 columns</p>\n",
              "</div>"
            ],
            "text/plain": [
              "     months_as_customer  age  ... auto_year fraud_reported\n",
              "0                   328   48  ...      2004              1\n",
              "1                   228   42  ...      2007              1\n",
              "2                   134   29  ...      2007              0\n",
              "3                   256   41  ...      2014              1\n",
              "4                   228   44  ...      2009              0\n",
              "..                  ...  ...  ...       ...            ...\n",
              "995                   3   38  ...      2006              0\n",
              "996                 285   41  ...      2015              0\n",
              "997                 130   34  ...      1996              0\n",
              "998                 458   62  ...      1998              0\n",
              "999                 456   60  ...      2007              0\n",
              "\n",
              "[1000 rows x 38 columns]"
            ]
          },
          "metadata": {
            "tags": []
          },
          "execution_count": 193
        }
      ]
    },
    {
      "cell_type": "code",
      "metadata": {
        "colab": {
          "base_uri": "https://localhost:8080/"
        },
        "id": "06YPQSuk1isD",
        "outputId": "fd5ed817-c47a-4b2d-91d1-075e67c563a6"
      },
      "source": [
        "data.isnull().sum().values.sum()"
      ],
      "execution_count": 194,
      "outputs": [
        {
          "output_type": "execute_result",
          "data": {
            "text/plain": [
              "0"
            ]
          },
          "metadata": {
            "tags": []
          },
          "execution_count": 194
        }
      ]
    },
    {
      "cell_type": "code",
      "metadata": {
        "id": "M5kpaBdm4ERj",
        "colab": {
          "base_uri": "https://localhost:8080/",
          "height": 600
        },
        "outputId": "9f8ffec7-46d1-482b-9460-ae660da232e9"
      },
      "source": [
        "data.replace('?', np.nan, inplace = True)\n",
        "data\n",
        "#data.replace('?','oth',inplace=True)"
      ],
      "execution_count": 195,
      "outputs": [
        {
          "output_type": "execute_result",
          "data": {
            "text/html": [
              "<div>\n",
              "<style scoped>\n",
              "    .dataframe tbody tr th:only-of-type {\n",
              "        vertical-align: middle;\n",
              "    }\n",
              "\n",
              "    .dataframe tbody tr th {\n",
              "        vertical-align: top;\n",
              "    }\n",
              "\n",
              "    .dataframe thead th {\n",
              "        text-align: right;\n",
              "    }\n",
              "</style>\n",
              "<table border=\"1\" class=\"dataframe\">\n",
              "  <thead>\n",
              "    <tr style=\"text-align: right;\">\n",
              "      <th></th>\n",
              "      <th>months_as_customer</th>\n",
              "      <th>age</th>\n",
              "      <th>policy_bind_date</th>\n",
              "      <th>policy_state</th>\n",
              "      <th>policy_csl</th>\n",
              "      <th>policy_deductable</th>\n",
              "      <th>policy_annual_premium</th>\n",
              "      <th>umbrella_limit</th>\n",
              "      <th>insured_zip</th>\n",
              "      <th>insured_sex</th>\n",
              "      <th>insured_education_level</th>\n",
              "      <th>insured_occupation</th>\n",
              "      <th>insured_hobbies</th>\n",
              "      <th>insured_relationship</th>\n",
              "      <th>capital-gains</th>\n",
              "      <th>capital-loss</th>\n",
              "      <th>incident_date</th>\n",
              "      <th>incident_type</th>\n",
              "      <th>collision_type</th>\n",
              "      <th>incident_severity</th>\n",
              "      <th>authorities_contacted</th>\n",
              "      <th>incident_state</th>\n",
              "      <th>incident_city</th>\n",
              "      <th>incident_location</th>\n",
              "      <th>incident_hour_of_the_day</th>\n",
              "      <th>number_of_vehicles_involved</th>\n",
              "      <th>property_damage</th>\n",
              "      <th>bodily_injuries</th>\n",
              "      <th>witnesses</th>\n",
              "      <th>police_report_available</th>\n",
              "      <th>total_claim_amount</th>\n",
              "      <th>injury_claim</th>\n",
              "      <th>property_claim</th>\n",
              "      <th>vehicle_claim</th>\n",
              "      <th>auto_make</th>\n",
              "      <th>auto_model</th>\n",
              "      <th>auto_year</th>\n",
              "      <th>fraud_reported</th>\n",
              "    </tr>\n",
              "  </thead>\n",
              "  <tbody>\n",
              "    <tr>\n",
              "      <th>0</th>\n",
              "      <td>328</td>\n",
              "      <td>48</td>\n",
              "      <td>2014-10-17</td>\n",
              "      <td>OH</td>\n",
              "      <td>250/500</td>\n",
              "      <td>1000</td>\n",
              "      <td>1406.91</td>\n",
              "      <td>0</td>\n",
              "      <td>466132</td>\n",
              "      <td>MALE</td>\n",
              "      <td>MD</td>\n",
              "      <td>craft-repair</td>\n",
              "      <td>sleeping</td>\n",
              "      <td>husband</td>\n",
              "      <td>53300</td>\n",
              "      <td>0</td>\n",
              "      <td>2015-01-25</td>\n",
              "      <td>Single Vehicle Collision</td>\n",
              "      <td>Side Collision</td>\n",
              "      <td>Major Damage</td>\n",
              "      <td>Police</td>\n",
              "      <td>SC</td>\n",
              "      <td>Columbus</td>\n",
              "      <td>9935 4th Drive</td>\n",
              "      <td>5</td>\n",
              "      <td>1</td>\n",
              "      <td>YES</td>\n",
              "      <td>1</td>\n",
              "      <td>2</td>\n",
              "      <td>YES</td>\n",
              "      <td>71610</td>\n",
              "      <td>6510</td>\n",
              "      <td>13020</td>\n",
              "      <td>52080</td>\n",
              "      <td>Saab</td>\n",
              "      <td>92x</td>\n",
              "      <td>2004</td>\n",
              "      <td>1</td>\n",
              "    </tr>\n",
              "    <tr>\n",
              "      <th>1</th>\n",
              "      <td>228</td>\n",
              "      <td>42</td>\n",
              "      <td>2006-06-27</td>\n",
              "      <td>IN</td>\n",
              "      <td>250/500</td>\n",
              "      <td>2000</td>\n",
              "      <td>1197.22</td>\n",
              "      <td>5000000</td>\n",
              "      <td>468176</td>\n",
              "      <td>MALE</td>\n",
              "      <td>MD</td>\n",
              "      <td>machine-op-inspct</td>\n",
              "      <td>reading</td>\n",
              "      <td>other-relative</td>\n",
              "      <td>0</td>\n",
              "      <td>0</td>\n",
              "      <td>2015-01-21</td>\n",
              "      <td>Vehicle Theft</td>\n",
              "      <td>NaN</td>\n",
              "      <td>Minor Damage</td>\n",
              "      <td>Police</td>\n",
              "      <td>VA</td>\n",
              "      <td>Riverwood</td>\n",
              "      <td>6608 MLK Hwy</td>\n",
              "      <td>8</td>\n",
              "      <td>1</td>\n",
              "      <td>NaN</td>\n",
              "      <td>0</td>\n",
              "      <td>0</td>\n",
              "      <td>NaN</td>\n",
              "      <td>5070</td>\n",
              "      <td>780</td>\n",
              "      <td>780</td>\n",
              "      <td>3510</td>\n",
              "      <td>Mercedes</td>\n",
              "      <td>E400</td>\n",
              "      <td>2007</td>\n",
              "      <td>1</td>\n",
              "    </tr>\n",
              "    <tr>\n",
              "      <th>2</th>\n",
              "      <td>134</td>\n",
              "      <td>29</td>\n",
              "      <td>2000-09-06</td>\n",
              "      <td>OH</td>\n",
              "      <td>100/300</td>\n",
              "      <td>2000</td>\n",
              "      <td>1413.14</td>\n",
              "      <td>5000000</td>\n",
              "      <td>430632</td>\n",
              "      <td>FEMALE</td>\n",
              "      <td>PhD</td>\n",
              "      <td>sales</td>\n",
              "      <td>board-games</td>\n",
              "      <td>own-child</td>\n",
              "      <td>35100</td>\n",
              "      <td>0</td>\n",
              "      <td>2015-02-22</td>\n",
              "      <td>Multi-vehicle Collision</td>\n",
              "      <td>Rear Collision</td>\n",
              "      <td>Minor Damage</td>\n",
              "      <td>Police</td>\n",
              "      <td>NY</td>\n",
              "      <td>Columbus</td>\n",
              "      <td>7121 Francis Lane</td>\n",
              "      <td>7</td>\n",
              "      <td>3</td>\n",
              "      <td>NO</td>\n",
              "      <td>2</td>\n",
              "      <td>3</td>\n",
              "      <td>NO</td>\n",
              "      <td>34650</td>\n",
              "      <td>7700</td>\n",
              "      <td>3850</td>\n",
              "      <td>23100</td>\n",
              "      <td>Dodge</td>\n",
              "      <td>RAM</td>\n",
              "      <td>2007</td>\n",
              "      <td>0</td>\n",
              "    </tr>\n",
              "    <tr>\n",
              "      <th>3</th>\n",
              "      <td>256</td>\n",
              "      <td>41</td>\n",
              "      <td>1990-05-25</td>\n",
              "      <td>IL</td>\n",
              "      <td>250/500</td>\n",
              "      <td>2000</td>\n",
              "      <td>1415.74</td>\n",
              "      <td>6000000</td>\n",
              "      <td>608117</td>\n",
              "      <td>FEMALE</td>\n",
              "      <td>PhD</td>\n",
              "      <td>armed-forces</td>\n",
              "      <td>board-games</td>\n",
              "      <td>unmarried</td>\n",
              "      <td>48900</td>\n",
              "      <td>-62400</td>\n",
              "      <td>2015-01-10</td>\n",
              "      <td>Single Vehicle Collision</td>\n",
              "      <td>Front Collision</td>\n",
              "      <td>Major Damage</td>\n",
              "      <td>Police</td>\n",
              "      <td>OH</td>\n",
              "      <td>Arlington</td>\n",
              "      <td>6956 Maple Drive</td>\n",
              "      <td>5</td>\n",
              "      <td>1</td>\n",
              "      <td>NaN</td>\n",
              "      <td>1</td>\n",
              "      <td>2</td>\n",
              "      <td>NO</td>\n",
              "      <td>63400</td>\n",
              "      <td>6340</td>\n",
              "      <td>6340</td>\n",
              "      <td>50720</td>\n",
              "      <td>Chevrolet</td>\n",
              "      <td>Tahoe</td>\n",
              "      <td>2014</td>\n",
              "      <td>1</td>\n",
              "    </tr>\n",
              "    <tr>\n",
              "      <th>4</th>\n",
              "      <td>228</td>\n",
              "      <td>44</td>\n",
              "      <td>2014-06-06</td>\n",
              "      <td>IL</td>\n",
              "      <td>500/1000</td>\n",
              "      <td>1000</td>\n",
              "      <td>1583.91</td>\n",
              "      <td>6000000</td>\n",
              "      <td>610706</td>\n",
              "      <td>MALE</td>\n",
              "      <td>Associate</td>\n",
              "      <td>sales</td>\n",
              "      <td>board-games</td>\n",
              "      <td>unmarried</td>\n",
              "      <td>66000</td>\n",
              "      <td>-46000</td>\n",
              "      <td>2015-02-17</td>\n",
              "      <td>Vehicle Theft</td>\n",
              "      <td>NaN</td>\n",
              "      <td>Minor Damage</td>\n",
              "      <td>None</td>\n",
              "      <td>NY</td>\n",
              "      <td>Arlington</td>\n",
              "      <td>3041 3rd Ave</td>\n",
              "      <td>20</td>\n",
              "      <td>1</td>\n",
              "      <td>NO</td>\n",
              "      <td>0</td>\n",
              "      <td>1</td>\n",
              "      <td>NO</td>\n",
              "      <td>6500</td>\n",
              "      <td>1300</td>\n",
              "      <td>650</td>\n",
              "      <td>4550</td>\n",
              "      <td>Accura</td>\n",
              "      <td>RSX</td>\n",
              "      <td>2009</td>\n",
              "      <td>0</td>\n",
              "    </tr>\n",
              "    <tr>\n",
              "      <th>...</th>\n",
              "      <td>...</td>\n",
              "      <td>...</td>\n",
              "      <td>...</td>\n",
              "      <td>...</td>\n",
              "      <td>...</td>\n",
              "      <td>...</td>\n",
              "      <td>...</td>\n",
              "      <td>...</td>\n",
              "      <td>...</td>\n",
              "      <td>...</td>\n",
              "      <td>...</td>\n",
              "      <td>...</td>\n",
              "      <td>...</td>\n",
              "      <td>...</td>\n",
              "      <td>...</td>\n",
              "      <td>...</td>\n",
              "      <td>...</td>\n",
              "      <td>...</td>\n",
              "      <td>...</td>\n",
              "      <td>...</td>\n",
              "      <td>...</td>\n",
              "      <td>...</td>\n",
              "      <td>...</td>\n",
              "      <td>...</td>\n",
              "      <td>...</td>\n",
              "      <td>...</td>\n",
              "      <td>...</td>\n",
              "      <td>...</td>\n",
              "      <td>...</td>\n",
              "      <td>...</td>\n",
              "      <td>...</td>\n",
              "      <td>...</td>\n",
              "      <td>...</td>\n",
              "      <td>...</td>\n",
              "      <td>...</td>\n",
              "      <td>...</td>\n",
              "      <td>...</td>\n",
              "      <td>...</td>\n",
              "    </tr>\n",
              "    <tr>\n",
              "      <th>995</th>\n",
              "      <td>3</td>\n",
              "      <td>38</td>\n",
              "      <td>1991-07-16</td>\n",
              "      <td>OH</td>\n",
              "      <td>500/1000</td>\n",
              "      <td>1000</td>\n",
              "      <td>1310.80</td>\n",
              "      <td>0</td>\n",
              "      <td>431289</td>\n",
              "      <td>FEMALE</td>\n",
              "      <td>Masters</td>\n",
              "      <td>craft-repair</td>\n",
              "      <td>paintball</td>\n",
              "      <td>unmarried</td>\n",
              "      <td>0</td>\n",
              "      <td>0</td>\n",
              "      <td>2015-02-22</td>\n",
              "      <td>Single Vehicle Collision</td>\n",
              "      <td>Front Collision</td>\n",
              "      <td>Minor Damage</td>\n",
              "      <td>Fire</td>\n",
              "      <td>NC</td>\n",
              "      <td>Northbrook</td>\n",
              "      <td>6045 Andromedia St</td>\n",
              "      <td>20</td>\n",
              "      <td>1</td>\n",
              "      <td>YES</td>\n",
              "      <td>0</td>\n",
              "      <td>1</td>\n",
              "      <td>NaN</td>\n",
              "      <td>87200</td>\n",
              "      <td>17440</td>\n",
              "      <td>8720</td>\n",
              "      <td>61040</td>\n",
              "      <td>Honda</td>\n",
              "      <td>Accord</td>\n",
              "      <td>2006</td>\n",
              "      <td>0</td>\n",
              "    </tr>\n",
              "    <tr>\n",
              "      <th>996</th>\n",
              "      <td>285</td>\n",
              "      <td>41</td>\n",
              "      <td>2014-01-05</td>\n",
              "      <td>IL</td>\n",
              "      <td>100/300</td>\n",
              "      <td>1000</td>\n",
              "      <td>1436.79</td>\n",
              "      <td>0</td>\n",
              "      <td>608177</td>\n",
              "      <td>FEMALE</td>\n",
              "      <td>PhD</td>\n",
              "      <td>prof-specialty</td>\n",
              "      <td>sleeping</td>\n",
              "      <td>wife</td>\n",
              "      <td>70900</td>\n",
              "      <td>0</td>\n",
              "      <td>2015-01-24</td>\n",
              "      <td>Single Vehicle Collision</td>\n",
              "      <td>Rear Collision</td>\n",
              "      <td>Major Damage</td>\n",
              "      <td>Fire</td>\n",
              "      <td>SC</td>\n",
              "      <td>Northbend</td>\n",
              "      <td>3092 Texas Drive</td>\n",
              "      <td>23</td>\n",
              "      <td>1</td>\n",
              "      <td>YES</td>\n",
              "      <td>2</td>\n",
              "      <td>3</td>\n",
              "      <td>NaN</td>\n",
              "      <td>108480</td>\n",
              "      <td>18080</td>\n",
              "      <td>18080</td>\n",
              "      <td>72320</td>\n",
              "      <td>Volkswagen</td>\n",
              "      <td>Passat</td>\n",
              "      <td>2015</td>\n",
              "      <td>0</td>\n",
              "    </tr>\n",
              "    <tr>\n",
              "      <th>997</th>\n",
              "      <td>130</td>\n",
              "      <td>34</td>\n",
              "      <td>2003-02-17</td>\n",
              "      <td>OH</td>\n",
              "      <td>250/500</td>\n",
              "      <td>500</td>\n",
              "      <td>1383.49</td>\n",
              "      <td>3000000</td>\n",
              "      <td>442797</td>\n",
              "      <td>FEMALE</td>\n",
              "      <td>Masters</td>\n",
              "      <td>armed-forces</td>\n",
              "      <td>bungie-jumping</td>\n",
              "      <td>other-relative</td>\n",
              "      <td>35100</td>\n",
              "      <td>0</td>\n",
              "      <td>2015-01-23</td>\n",
              "      <td>Multi-vehicle Collision</td>\n",
              "      <td>Side Collision</td>\n",
              "      <td>Minor Damage</td>\n",
              "      <td>Police</td>\n",
              "      <td>NC</td>\n",
              "      <td>Arlington</td>\n",
              "      <td>7629 5th St</td>\n",
              "      <td>4</td>\n",
              "      <td>3</td>\n",
              "      <td>NaN</td>\n",
              "      <td>2</td>\n",
              "      <td>3</td>\n",
              "      <td>YES</td>\n",
              "      <td>67500</td>\n",
              "      <td>7500</td>\n",
              "      <td>7500</td>\n",
              "      <td>52500</td>\n",
              "      <td>Suburu</td>\n",
              "      <td>Impreza</td>\n",
              "      <td>1996</td>\n",
              "      <td>0</td>\n",
              "    </tr>\n",
              "    <tr>\n",
              "      <th>998</th>\n",
              "      <td>458</td>\n",
              "      <td>62</td>\n",
              "      <td>2011-11-18</td>\n",
              "      <td>IL</td>\n",
              "      <td>500/1000</td>\n",
              "      <td>2000</td>\n",
              "      <td>1356.92</td>\n",
              "      <td>5000000</td>\n",
              "      <td>441714</td>\n",
              "      <td>MALE</td>\n",
              "      <td>Associate</td>\n",
              "      <td>handlers-cleaners</td>\n",
              "      <td>base-jumping</td>\n",
              "      <td>wife</td>\n",
              "      <td>0</td>\n",
              "      <td>0</td>\n",
              "      <td>2015-02-26</td>\n",
              "      <td>Single Vehicle Collision</td>\n",
              "      <td>Rear Collision</td>\n",
              "      <td>Major Damage</td>\n",
              "      <td>Other</td>\n",
              "      <td>NY</td>\n",
              "      <td>Arlington</td>\n",
              "      <td>6128 Elm Lane</td>\n",
              "      <td>2</td>\n",
              "      <td>1</td>\n",
              "      <td>NaN</td>\n",
              "      <td>0</td>\n",
              "      <td>1</td>\n",
              "      <td>YES</td>\n",
              "      <td>46980</td>\n",
              "      <td>5220</td>\n",
              "      <td>5220</td>\n",
              "      <td>36540</td>\n",
              "      <td>Audi</td>\n",
              "      <td>A5</td>\n",
              "      <td>1998</td>\n",
              "      <td>0</td>\n",
              "    </tr>\n",
              "    <tr>\n",
              "      <th>999</th>\n",
              "      <td>456</td>\n",
              "      <td>60</td>\n",
              "      <td>1996-11-11</td>\n",
              "      <td>OH</td>\n",
              "      <td>250/500</td>\n",
              "      <td>1000</td>\n",
              "      <td>766.19</td>\n",
              "      <td>0</td>\n",
              "      <td>612260</td>\n",
              "      <td>FEMALE</td>\n",
              "      <td>Associate</td>\n",
              "      <td>sales</td>\n",
              "      <td>kayaking</td>\n",
              "      <td>husband</td>\n",
              "      <td>0</td>\n",
              "      <td>0</td>\n",
              "      <td>2015-02-26</td>\n",
              "      <td>Parked Car</td>\n",
              "      <td>NaN</td>\n",
              "      <td>Minor Damage</td>\n",
              "      <td>Police</td>\n",
              "      <td>WV</td>\n",
              "      <td>Columbus</td>\n",
              "      <td>1416 Cherokee Ridge</td>\n",
              "      <td>6</td>\n",
              "      <td>1</td>\n",
              "      <td>NaN</td>\n",
              "      <td>0</td>\n",
              "      <td>3</td>\n",
              "      <td>NaN</td>\n",
              "      <td>5060</td>\n",
              "      <td>460</td>\n",
              "      <td>920</td>\n",
              "      <td>3680</td>\n",
              "      <td>Mercedes</td>\n",
              "      <td>E400</td>\n",
              "      <td>2007</td>\n",
              "      <td>0</td>\n",
              "    </tr>\n",
              "  </tbody>\n",
              "</table>\n",
              "<p>1000 rows × 38 columns</p>\n",
              "</div>"
            ],
            "text/plain": [
              "     months_as_customer  age  ... auto_year fraud_reported\n",
              "0                   328   48  ...      2004              1\n",
              "1                   228   42  ...      2007              1\n",
              "2                   134   29  ...      2007              0\n",
              "3                   256   41  ...      2014              1\n",
              "4                   228   44  ...      2009              0\n",
              "..                  ...  ...  ...       ...            ...\n",
              "995                   3   38  ...      2006              0\n",
              "996                 285   41  ...      2015              0\n",
              "997                 130   34  ...      1996              0\n",
              "998                 458   62  ...      1998              0\n",
              "999                 456   60  ...      2007              0\n",
              "\n",
              "[1000 rows x 38 columns]"
            ]
          },
          "metadata": {
            "tags": []
          },
          "execution_count": 195
        }
      ]
    },
    {
      "cell_type": "markdown",
      "metadata": {
        "id": "-MvaXO6x2jMt"
      },
      "source": [
        "**Data transformation**"
      ]
    },
    {
      "cell_type": "code",
      "metadata": {
        "colab": {
          "base_uri": "https://localhost:8080/",
          "height": 673
        },
        "id": "VCZWh5Nr04Fi",
        "outputId": "c3b3af38-0668-4aad-a8ce-0fe5b26a20f6"
      },
      "source": [
        "so = data['incident_hour_of_the_day'].transform ([np.sqrt,np.exp])\n",
        "\n",
        "so.hist(bins=20,layout =(2,1),edgecolor=\"k\", figsize=(10,10))"
      ],
      "execution_count": 196,
      "outputs": [
        {
          "output_type": "execute_result",
          "data": {
            "text/plain": [
              "array([[<matplotlib.axes._subplots.AxesSubplot object at 0x7f82ba1ecc50>],\n",
              "       [<matplotlib.axes._subplots.AxesSubplot object at 0x7f82aba8af90>]],\n",
              "      dtype=object)"
            ]
          },
          "metadata": {
            "tags": []
          },
          "execution_count": 196
        },
        {
          "output_type": "display_data",
          "data": {
            "image/png": "[encoded data removed]",
            "text/plain": [
              "<Figure size 720x720 with 2 Axes>"
            ]
          },
          "metadata": {
            "tags": [],
            "needs_background": "light"
          }
        }
      ]
    },
    {
      "cell_type": "markdown",
      "metadata": {
        "id": "drsLEA-n7PdD"
      },
      "source": [
        "**Count of cars by each company**"
      ]
    },
    {
      "cell_type": "code",
      "metadata": {
        "colab": {
          "base_uri": "https://localhost:8080/",
          "height": 297
        },
        "id": "j4Epg3Wj2imC",
        "outputId": "fe12679f-abe7-4330-9854-9a5e34f5220c"
      },
      "source": [
        "data['auto_make'].value_counts().plot(kind='bar',\n",
        "color='b')\n",
        "plt.xlabel('Car Companies')\n",
        "plt.ylabel('count')\n",
        "plt.title('number of cars by each company')\n",
        "plt.legend()\n",
        "\n",
        "plt.tight_layout()\n",
        "plt.show()"
      ],
      "execution_count": 197,
      "outputs": [
        {
          "output_type": "display_data",
          "data": {
            "image/png": "[encoded data removed]",
            "text/plain": [
              "<Figure size 432x288 with 1 Axes>"
            ]
          },
          "metadata": {
            "tags": [],
            "needs_background": "light"
          }
        }
      ]
    },
    {
      "cell_type": "markdown",
      "metadata": {
        "id": "q219TzR176Kf"
      },
      "source": [
        "**Count of insured sex for fraud reporting**"
      ]
    },
    {
      "cell_type": "code",
      "metadata": {
        "colab": {
          "base_uri": "https://localhost:8080/",
          "height": 326
        },
        "id": "x8s_zV7z2yaD",
        "outputId": "40888346-1e91-4797-9c0c-da3c15f0d8cc"
      },
      "source": [
        "data.groupby(['insured_sex'])['fraud_reported'].count().sort_values().plot(kind='bar')"
      ],
      "execution_count": 198,
      "outputs": [
        {
          "output_type": "execute_result",
          "data": {
            "text/plain": [
              "<matplotlib.axes._subplots.AxesSubplot at 0x7f82b9424f10>"
            ]
          },
          "metadata": {
            "tags": []
          },
          "execution_count": 198
        },
        {
          "output_type": "display_data",
          "data": {
            "image/png": "[encoded data removed]",
            "text/plain": [
              "<Figure size 432x288 with 1 Axes>"
            ]
          },
          "metadata": {
            "tags": [],
            "needs_background": "light"
          }
        }
      ]
    },
    {
      "cell_type": "markdown",
      "metadata": {
        "id": "TzwLyi9w8ocK"
      },
      "source": [
        "**Scatter plot b/w policy annual premium and vechicle cliam**"
      ]
    },
    {
      "cell_type": "code",
      "metadata": {
        "colab": {
          "base_uri": "https://localhost:8080/",
          "height": 280
        },
        "id": "zx2oNnYTtlJH",
        "outputId": "3fe1e8fc-4aef-4ec8-cf10-fa8832847d90"
      },
      "source": [
        "ax = sns.scatterplot(x=\"policy_annual_premium\", y=\"vehicle_claim\",data = data)\n",
        "plt.show()"
      ],
      "execution_count": 199,
      "outputs": [
        {
          "output_type": "display_data",
          "data": {
            "image/png": "[encoded data removed]",
            "text/plain": [
              "<Figure size 432x288 with 1 Axes>"
            ]
          },
          "metadata": {
            "tags": [],
            "needs_background": "light"
          }
        }
      ]
    },
    {
      "cell_type": "markdown",
      "metadata": {
        "id": "toq07ty-81YC"
      },
      "source": [
        "**Plot b/w insured_relationship and vehicle_claim**\n",
        "\n",
        "\n"
      ]
    },
    {
      "cell_type": "code",
      "metadata": {
        "colab": {
          "base_uri": "https://localhost:8080/",
          "height": 280
        },
        "id": "93u-21DSwT7M",
        "outputId": "76de7486-e850-41a0-ef5a-17d99a1ce0e4"
      },
      "source": [
        "\n",
        "sns.barplot(x=\"insured_relationship\",y=\"vehicle_claim\",data=data)\n",
        "plt.show()"
      ],
      "execution_count": 200,
      "outputs": [
        {
          "output_type": "display_data",
          "data": {
            "image/png": "[encoded data removed]",
            "text/plain": [
              "<Figure size 432x288 with 1 Axes>"
            ]
          },
          "metadata": {
            "tags": [],
            "needs_background": "light"
          }
        }
      ]
    },
    {
      "cell_type": "markdown",
      "metadata": {
        "id": "ulMqi4qT9U1O"
      },
      "source": [
        "**Plot b/w Age of the customers and Number of customers**"
      ]
    },
    {
      "cell_type": "code",
      "metadata": {
        "colab": {
          "base_uri": "https://localhost:8080/",
          "height": 312
        },
        "id": "8mauMss-zX6j",
        "outputId": "24b0ba94-d62d-44e4-c635-9b8c25d7bd40"
      },
      "source": [
        "plt.hist(data.age)\n",
        "plt.title(\"Histogram of age of the customers\")\n",
        "plt.xlabel(\"Age of the customers\")\n",
        "plt.ylabel(\"Number of customers\")"
      ],
      "execution_count": 201,
      "outputs": [
        {
          "output_type": "execute_result",
          "data": {
            "text/plain": [
              "Text(0, 0.5, 'Number of customers')"
            ]
          },
          "metadata": {
            "tags": []
          },
          "execution_count": 201
        },
        {
          "output_type": "display_data",
          "data": {
            "image/png": "[encoded data removed]",
            "text/plain": [
              "<Figure size 432x288 with 1 Axes>"
            ]
          },
          "metadata": {
            "tags": [],
            "needs_background": "light"
          }
        }
      ]
    },
    {
      "cell_type": "markdown",
      "metadata": {
        "id": "Z2pQAmFJ9g3Q"
      },
      "source": [
        "**Plot b/w Gender and Number of customers**"
      ]
    },
    {
      "cell_type": "code",
      "metadata": {
        "colab": {
          "base_uri": "https://localhost:8080/",
          "height": 312
        },
        "id": "0-2xWvQnz_Y3",
        "outputId": "902b5162-a7bb-40fd-d294-d1a2ae262caf"
      },
      "source": [
        "plt.hist(data.insured_sex)\n",
        "plt.title(\"Histogram of gender count of the customers\")\n",
        "plt.xlabel(\"Gender\")\n",
        "plt.ylabel(\"Number of customers\")"
      ],
      "execution_count": 202,
      "outputs": [
        {
          "output_type": "execute_result",
          "data": {
            "text/plain": [
              "Text(0, 0.5, 'Number of customers')"
            ]
          },
          "metadata": {
            "tags": []
          },
          "execution_count": 202
        },
        {
          "output_type": "display_data",
          "data": {
            "image/png": "[encoded data removed]",
            "text/plain": [
              "<Figure size 432x288 with 1 Axes>"
            ]
          },
          "metadata": {
            "tags": [],
            "needs_background": "light"
          }
        }
      ]
    },
    {
      "cell_type": "markdown",
      "metadata": {
        "id": "1X9bFHY29uPQ"
      },
      "source": [
        "**Plot b/w authorities contacted and fraud reported**\n"
      ]
    },
    {
      "cell_type": "code",
      "metadata": {
        "colab": {
          "base_uri": "https://localhost:8080/",
          "height": 280
        },
        "id": "2zx5E5J70Ml5",
        "outputId": "52e05f4a-f14e-4575-dd46-197f512e3873"
      },
      "source": [
        "sns.countplot(x=\"authorities_contacted\",hue=\"fraud_reported\",data=data)\n",
        "plt.show()\n"
      ],
      "execution_count": 203,
      "outputs": [
        {
          "output_type": "display_data",
          "data": {
            "image/png": "[encoded data removed]",
            "text/plain": [
              "<Figure size 432x288 with 1 Axes>"
            ]
          },
          "metadata": {
            "tags": [],
            "needs_background": "light"
          }
        }
      ]
    },
    {
      "cell_type": "markdown",
      "metadata": {
        "id": "nGfTd7EF-DdS"
      },
      "source": [
        "**Box plot b/w fraud_reported and age**"
      ]
    },
    {
      "cell_type": "code",
      "metadata": {
        "colab": {
          "base_uri": "https://localhost:8080/",
          "height": 280
        },
        "id": "34SLANMu3lMZ",
        "outputId": "16b82fa6-3d1e-47fe-afeb-9a6ac369df53"
      },
      "source": [
        "sns.boxplot(y=\"age\",x=\"fraud_reported\",hue=\"insured_sex\",data=data,orient=\"v\")\n",
        "plt.show()"
      ],
      "execution_count": 204,
      "outputs": [
        {
          "output_type": "display_data",
          "data": {
            "image/png": "[encoded data removed]",
            "text/plain": [
              "<Figure size 432x288 with 1 Axes>"
            ]
          },
          "metadata": {
            "tags": [],
            "needs_background": "light"
          }
        }
      ]
    },
    {
      "cell_type": "markdown",
      "metadata": {
        "id": "NVlgJH1I-OOg"
      },
      "source": [
        "**Plot b/w incident_type and fraud reported**"
      ]
    },
    {
      "cell_type": "code",
      "metadata": {
        "colab": {
          "base_uri": "https://localhost:8080/",
          "height": 386
        },
        "id": "qO3La3gy6crg",
        "outputId": "87803906-7101-49c1-b464-577100d8beb8"
      },
      "source": [
        "plt.figure(figsize=(10,5))\n",
        "sns.countplot(data.incident_type,orient='v',hue=data['fraud_reported'])"
      ],
      "execution_count": 205,
      "outputs": [
        {
          "output_type": "stream",
          "text": [
            "/usr/local/lib/python3.7/dist-packages/seaborn/_decorators.py:43: FutureWarning: Pass the following variable as a keyword arg: x. From version 0.12, the only valid positional argument will be `data`, and passing other arguments without an explicit keyword will result in an error or misinterpretation.\n",
            "  FutureWarning\n"
          ],
          "name": "stderr"
        },
        {
          "output_type": "execute_result",
          "data": {
            "text/plain": [
              "<matplotlib.axes._subplots.AxesSubplot at 0x7f82c6b9d5d0>"
            ]
          },
          "metadata": {
            "tags": []
          },
          "execution_count": 205
        },
        {
          "output_type": "display_data",
          "data": {
            "image/png": "[encoded data removed]",
            "text/plain": [
              "<Figure size 720x360 with 1 Axes>"
            ]
          },
          "metadata": {
            "tags": [],
            "needs_background": "light"
          }
        }
      ]
    },
    {
      "cell_type": "markdown",
      "metadata": {
        "id": "glYnGj1n-ehf"
      },
      "source": [
        "**Plot b/w distributed ages of fraud reported**"
      ]
    },
    {
      "cell_type": "code",
      "metadata": {
        "colab": {
          "base_uri": "https://localhost:8080/",
          "height": 246
        },
        "id": "uQpitCUz62lC",
        "outputId": "57e6fb71-e170-460f-ae38-790ca3cffca9"
      },
      "source": [
        "bins = [18, 22, 35, 50, 65]\n",
        "data['age_bin'] = pd.cut(data['age'], bins)\n",
        "data.drop('age',axis=1,inplace=True)\n",
        "\n",
        "plt.figure(figsize=(10,3))\n",
        "sns.countplot(x=data.age_bin,orient='v',hue=data['fraud_reported'])"
      ],
      "execution_count": 206,
      "outputs": [
        {
          "output_type": "execute_result",
          "data": {
            "text/plain": [
              "<matplotlib.axes._subplots.AxesSubplot at 0x7f82aba7cbd0>"
            ]
          },
          "metadata": {
            "tags": []
          },
          "execution_count": 206
        },
        {
          "output_type": "display_data",
          "data": {
            "image/png": "[encoded data removed]",
            "text/plain": [
              "<Figure size 720x216 with 1 Axes>"
            ]
          },
          "metadata": {
            "tags": [],
            "needs_background": "light"
          }
        }
      ]
    },
    {
      "cell_type": "markdown",
      "metadata": {
        "id": "t3an-T7s-yCO"
      },
      "source": [
        "**Fraud reported on different auto models**"
      ]
    },
    {
      "cell_type": "code",
      "metadata": {
        "colab": {
          "base_uri": "https://localhost:8080/",
          "height": 1000
        },
        "id": "9f92eoZp_IJ1",
        "outputId": "844734d3-76f5-4fd7-99f4-7242604e63b9"
      },
      "source": [
        "pd.crosstab(data['auto_model'],data['fraud_reported'])"
      ],
      "execution_count": 207,
      "outputs": [
        {
          "output_type": "execute_result",
          "data": {
            "text/html": [
              "<div>\n",
              "<style scoped>\n",
              "    .dataframe tbody tr th:only-of-type {\n",
              "        vertical-align: middle;\n",
              "    }\n",
              "\n",
              "    .dataframe tbody tr th {\n",
              "        vertical-align: top;\n",
              "    }\n",
              "\n",
              "    .dataframe thead th {\n",
              "        text-align: right;\n",
              "    }\n",
              "</style>\n",
              "<table border=\"1\" class=\"dataframe\">\n",
              "  <thead>\n",
              "    <tr style=\"text-align: right;\">\n",
              "      <th>fraud_reported</th>\n",
              "      <th>0</th>\n",
              "      <th>1</th>\n",
              "    </tr>\n",
              "    <tr>\n",
              "      <th>auto_model</th>\n",
              "      <th></th>\n",
              "      <th></th>\n",
              "    </tr>\n",
              "  </thead>\n",
              "  <tbody>\n",
              "    <tr>\n",
              "      <th>3 Series</th>\n",
              "      <td>17</td>\n",
              "      <td>1</td>\n",
              "    </tr>\n",
              "    <tr>\n",
              "      <th>92x</th>\n",
              "      <td>20</td>\n",
              "      <td>8</td>\n",
              "    </tr>\n",
              "    <tr>\n",
              "      <th>93</th>\n",
              "      <td>20</td>\n",
              "      <td>5</td>\n",
              "    </tr>\n",
              "    <tr>\n",
              "      <th>95</th>\n",
              "      <td>22</td>\n",
              "      <td>5</td>\n",
              "    </tr>\n",
              "    <tr>\n",
              "      <th>A3</th>\n",
              "      <td>27</td>\n",
              "      <td>10</td>\n",
              "    </tr>\n",
              "    <tr>\n",
              "      <th>A5</th>\n",
              "      <td>21</td>\n",
              "      <td>11</td>\n",
              "    </tr>\n",
              "    <tr>\n",
              "      <th>Accord</th>\n",
              "      <td>10</td>\n",
              "      <td>3</td>\n",
              "    </tr>\n",
              "    <tr>\n",
              "      <th>C300</th>\n",
              "      <td>11</td>\n",
              "      <td>7</td>\n",
              "    </tr>\n",
              "    <tr>\n",
              "      <th>CRV</th>\n",
              "      <td>17</td>\n",
              "      <td>3</td>\n",
              "    </tr>\n",
              "    <tr>\n",
              "      <th>Camry</th>\n",
              "      <td>24</td>\n",
              "      <td>4</td>\n",
              "    </tr>\n",
              "    <tr>\n",
              "      <th>Civic</th>\n",
              "      <td>14</td>\n",
              "      <td>8</td>\n",
              "    </tr>\n",
              "    <tr>\n",
              "      <th>Corolla</th>\n",
              "      <td>17</td>\n",
              "      <td>3</td>\n",
              "    </tr>\n",
              "    <tr>\n",
              "      <th>E400</th>\n",
              "      <td>20</td>\n",
              "      <td>7</td>\n",
              "    </tr>\n",
              "    <tr>\n",
              "      <th>Escape</th>\n",
              "      <td>18</td>\n",
              "      <td>6</td>\n",
              "    </tr>\n",
              "    <tr>\n",
              "      <th>F150</th>\n",
              "      <td>17</td>\n",
              "      <td>10</td>\n",
              "    </tr>\n",
              "    <tr>\n",
              "      <th>Forrestor</th>\n",
              "      <td>20</td>\n",
              "      <td>8</td>\n",
              "    </tr>\n",
              "    <tr>\n",
              "      <th>Fusion</th>\n",
              "      <td>15</td>\n",
              "      <td>6</td>\n",
              "    </tr>\n",
              "    <tr>\n",
              "      <th>Grand Cherokee</th>\n",
              "      <td>19</td>\n",
              "      <td>6</td>\n",
              "    </tr>\n",
              "    <tr>\n",
              "      <th>Highlander</th>\n",
              "      <td>16</td>\n",
              "      <td>6</td>\n",
              "    </tr>\n",
              "    <tr>\n",
              "      <th>Impreza</th>\n",
              "      <td>14</td>\n",
              "      <td>6</td>\n",
              "    </tr>\n",
              "    <tr>\n",
              "      <th>Jetta</th>\n",
              "      <td>25</td>\n",
              "      <td>10</td>\n",
              "    </tr>\n",
              "    <tr>\n",
              "      <th>Legacy</th>\n",
              "      <td>27</td>\n",
              "      <td>5</td>\n",
              "    </tr>\n",
              "    <tr>\n",
              "      <th>M5</th>\n",
              "      <td>10</td>\n",
              "      <td>5</td>\n",
              "    </tr>\n",
              "    <tr>\n",
              "      <th>MDX</th>\n",
              "      <td>28</td>\n",
              "      <td>8</td>\n",
              "    </tr>\n",
              "    <tr>\n",
              "      <th>ML350</th>\n",
              "      <td>12</td>\n",
              "      <td>8</td>\n",
              "    </tr>\n",
              "    <tr>\n",
              "      <th>Malibu</th>\n",
              "      <td>27</td>\n",
              "      <td>3</td>\n",
              "    </tr>\n",
              "    <tr>\n",
              "      <th>Maxima</th>\n",
              "      <td>17</td>\n",
              "      <td>7</td>\n",
              "    </tr>\n",
              "    <tr>\n",
              "      <th>Neon</th>\n",
              "      <td>31</td>\n",
              "      <td>6</td>\n",
              "    </tr>\n",
              "    <tr>\n",
              "      <th>Passat</th>\n",
              "      <td>24</td>\n",
              "      <td>9</td>\n",
              "    </tr>\n",
              "    <tr>\n",
              "      <th>Pathfinder</th>\n",
              "      <td>27</td>\n",
              "      <td>4</td>\n",
              "    </tr>\n",
              "    <tr>\n",
              "      <th>RAM</th>\n",
              "      <td>29</td>\n",
              "      <td>14</td>\n",
              "    </tr>\n",
              "    <tr>\n",
              "      <th>RSX</th>\n",
              "      <td>11</td>\n",
              "      <td>1</td>\n",
              "    </tr>\n",
              "    <tr>\n",
              "      <th>Silverado</th>\n",
              "      <td>13</td>\n",
              "      <td>9</td>\n",
              "    </tr>\n",
              "    <tr>\n",
              "      <th>TL</th>\n",
              "      <td>16</td>\n",
              "      <td>4</td>\n",
              "    </tr>\n",
              "    <tr>\n",
              "      <th>Tahoe</th>\n",
              "      <td>15</td>\n",
              "      <td>9</td>\n",
              "    </tr>\n",
              "    <tr>\n",
              "      <th>Ultima</th>\n",
              "      <td>20</td>\n",
              "      <td>3</td>\n",
              "    </tr>\n",
              "    <tr>\n",
              "      <th>Wrangler</th>\n",
              "      <td>37</td>\n",
              "      <td>5</td>\n",
              "    </tr>\n",
              "    <tr>\n",
              "      <th>X5</th>\n",
              "      <td>16</td>\n",
              "      <td>7</td>\n",
              "    </tr>\n",
              "    <tr>\n",
              "      <th>X6</th>\n",
              "      <td>9</td>\n",
              "      <td>7</td>\n",
              "    </tr>\n",
              "  </tbody>\n",
              "</table>\n",
              "</div>"
            ],
            "text/plain": [
              "fraud_reported   0   1\n",
              "auto_model            \n",
              "3 Series        17   1\n",
              "92x             20   8\n",
              "93              20   5\n",
              "95              22   5\n",
              "A3              27  10\n",
              "A5              21  11\n",
              "Accord          10   3\n",
              "C300            11   7\n",
              "CRV             17   3\n",
              "Camry           24   4\n",
              "Civic           14   8\n",
              "Corolla         17   3\n",
              "E400            20   7\n",
              "Escape          18   6\n",
              "F150            17  10\n",
              "Forrestor       20   8\n",
              "Fusion          15   6\n",
              "Grand Cherokee  19   6\n",
              "Highlander      16   6\n",
              "Impreza         14   6\n",
              "Jetta           25  10\n",
              "Legacy          27   5\n",
              "M5              10   5\n",
              "MDX             28   8\n",
              "ML350           12   8\n",
              "Malibu          27   3\n",
              "Maxima          17   7\n",
              "Neon            31   6\n",
              "Passat          24   9\n",
              "Pathfinder      27   4\n",
              "RAM             29  14\n",
              "RSX             11   1\n",
              "Silverado       13   9\n",
              "TL              16   4\n",
              "Tahoe           15   9\n",
              "Ultima          20   3\n",
              "Wrangler        37   5\n",
              "X5              16   7\n",
              "X6               9   7"
            ]
          },
          "metadata": {
            "tags": []
          },
          "execution_count": 207
        }
      ]
    },
    {
      "cell_type": "markdown",
      "metadata": {
        "id": "C4trV9Jf_FcB"
      },
      "source": [
        "**multicollinearity**"
      ]
    },
    {
      "cell_type": "code",
      "metadata": {
        "colab": {
          "base_uri": "https://localhost:8080/",
          "height": 837
        },
        "id": "oxPOzdkqK11V",
        "outputId": "885d98c1-0c1b-4a2b-d09e-9c72a3aef5fd"
      },
      "source": [
        "plt.figure(figsize = (18, 12))\n",
        "\n",
        "corr = data.corr()\n",
        "mask = np.triu(np.ones_like(corr, dtype = bool))\n",
        "\n",
        "sns.heatmap(data = corr, mask = mask, annot = True, fmt = '.2g', linewidth = 1)\n",
        "plt.show()"
      ],
      "execution_count": 208,
      "outputs": [
        {
          "output_type": "display_data",
          "data": {
            "image/png": "[encoded data removed]",
            "text/plain": [
              "<Figure size 1296x864 with 2 Axes>"
            ]
          },
          "metadata": {
            "tags": [],
            "needs_background": "light"
          }
        }
      ]
    },
    {
      "cell_type": "markdown",
      "metadata": {
        "id": "W44dQG-HK_ma"
      },
      "source": [
        "From the above plot, we can see that there is high correlation between age and months_as_customer.We will drop the \"Age\" column. Also there is high correlation between total_clam_amount, injury_claim, property_claim, vehicle_claim as total claim is the sum of all others. So we will drop the total claim column."
      ]
    },
    {
      "cell_type": "markdown",
      "metadata": {
        "id": "DjQYvpIq_jYf"
      },
      "source": [
        "**Dropping variables in datset**"
      ]
    },
    {
      "cell_type": "code",
      "metadata": {
        "id": "muyFxfZxLCME"
      },
      "source": [
        "to_drop = ['policy_bind_date','policy_state','insured_zip','incident_location','incident_date',\n",
        "           'incident_state','incident_city','insured_hobbies','auto_make','auto_model','auto_year']\n",
        "\n",
        "data.drop(to_drop, inplace = True, axis = 1)"
      ],
      "execution_count": 209,
      "outputs": []
    },
    {
      "cell_type": "code",
      "metadata": {
        "colab": {
          "base_uri": "https://localhost:8080/",
          "height": 582
        },
        "id": "1pkkGy9JLrvZ",
        "outputId": "17c7c019-ea13-41d1-e635-2008d057f92b"
      },
      "source": [
        "data.drop('total_claim_amount', inplace=True, axis = 1)\n",
        "data"
      ],
      "execution_count": 210,
      "outputs": [
        {
          "output_type": "execute_result",
          "data": {
            "text/html": [
              "<div>\n",
              "<style scoped>\n",
              "    .dataframe tbody tr th:only-of-type {\n",
              "        vertical-align: middle;\n",
              "    }\n",
              "\n",
              "    .dataframe tbody tr th {\n",
              "        vertical-align: top;\n",
              "    }\n",
              "\n",
              "    .dataframe thead th {\n",
              "        text-align: right;\n",
              "    }\n",
              "</style>\n",
              "<table border=\"1\" class=\"dataframe\">\n",
              "  <thead>\n",
              "    <tr style=\"text-align: right;\">\n",
              "      <th></th>\n",
              "      <th>months_as_customer</th>\n",
              "      <th>policy_csl</th>\n",
              "      <th>policy_deductable</th>\n",
              "      <th>policy_annual_premium</th>\n",
              "      <th>umbrella_limit</th>\n",
              "      <th>insured_sex</th>\n",
              "      <th>insured_education_level</th>\n",
              "      <th>insured_occupation</th>\n",
              "      <th>insured_relationship</th>\n",
              "      <th>capital-gains</th>\n",
              "      <th>capital-loss</th>\n",
              "      <th>incident_type</th>\n",
              "      <th>collision_type</th>\n",
              "      <th>incident_severity</th>\n",
              "      <th>authorities_contacted</th>\n",
              "      <th>incident_hour_of_the_day</th>\n",
              "      <th>number_of_vehicles_involved</th>\n",
              "      <th>property_damage</th>\n",
              "      <th>bodily_injuries</th>\n",
              "      <th>witnesses</th>\n",
              "      <th>police_report_available</th>\n",
              "      <th>injury_claim</th>\n",
              "      <th>property_claim</th>\n",
              "      <th>vehicle_claim</th>\n",
              "      <th>fraud_reported</th>\n",
              "      <th>age_bin</th>\n",
              "    </tr>\n",
              "  </thead>\n",
              "  <tbody>\n",
              "    <tr>\n",
              "      <th>0</th>\n",
              "      <td>328</td>\n",
              "      <td>250/500</td>\n",
              "      <td>1000</td>\n",
              "      <td>1406.91</td>\n",
              "      <td>0</td>\n",
              "      <td>MALE</td>\n",
              "      <td>MD</td>\n",
              "      <td>craft-repair</td>\n",
              "      <td>husband</td>\n",
              "      <td>53300</td>\n",
              "      <td>0</td>\n",
              "      <td>Single Vehicle Collision</td>\n",
              "      <td>Side Collision</td>\n",
              "      <td>Major Damage</td>\n",
              "      <td>Police</td>\n",
              "      <td>5</td>\n",
              "      <td>1</td>\n",
              "      <td>YES</td>\n",
              "      <td>1</td>\n",
              "      <td>2</td>\n",
              "      <td>YES</td>\n",
              "      <td>6510</td>\n",
              "      <td>13020</td>\n",
              "      <td>52080</td>\n",
              "      <td>1</td>\n",
              "      <td>(35, 50]</td>\n",
              "    </tr>\n",
              "    <tr>\n",
              "      <th>1</th>\n",
              "      <td>228</td>\n",
              "      <td>250/500</td>\n",
              "      <td>2000</td>\n",
              "      <td>1197.22</td>\n",
              "      <td>5000000</td>\n",
              "      <td>MALE</td>\n",
              "      <td>MD</td>\n",
              "      <td>machine-op-inspct</td>\n",
              "      <td>other-relative</td>\n",
              "      <td>0</td>\n",
              "      <td>0</td>\n",
              "      <td>Vehicle Theft</td>\n",
              "      <td>NaN</td>\n",
              "      <td>Minor Damage</td>\n",
              "      <td>Police</td>\n",
              "      <td>8</td>\n",
              "      <td>1</td>\n",
              "      <td>NaN</td>\n",
              "      <td>0</td>\n",
              "      <td>0</td>\n",
              "      <td>NaN</td>\n",
              "      <td>780</td>\n",
              "      <td>780</td>\n",
              "      <td>3510</td>\n",
              "      <td>1</td>\n",
              "      <td>(35, 50]</td>\n",
              "    </tr>\n",
              "    <tr>\n",
              "      <th>2</th>\n",
              "      <td>134</td>\n",
              "      <td>100/300</td>\n",
              "      <td>2000</td>\n",
              "      <td>1413.14</td>\n",
              "      <td>5000000</td>\n",
              "      <td>FEMALE</td>\n",
              "      <td>PhD</td>\n",
              "      <td>sales</td>\n",
              "      <td>own-child</td>\n",
              "      <td>35100</td>\n",
              "      <td>0</td>\n",
              "      <td>Multi-vehicle Collision</td>\n",
              "      <td>Rear Collision</td>\n",
              "      <td>Minor Damage</td>\n",
              "      <td>Police</td>\n",
              "      <td>7</td>\n",
              "      <td>3</td>\n",
              "      <td>NO</td>\n",
              "      <td>2</td>\n",
              "      <td>3</td>\n",
              "      <td>NO</td>\n",
              "      <td>7700</td>\n",
              "      <td>3850</td>\n",
              "      <td>23100</td>\n",
              "      <td>0</td>\n",
              "      <td>(22, 35]</td>\n",
              "    </tr>\n",
              "    <tr>\n",
              "      <th>3</th>\n",
              "      <td>256</td>\n",
              "      <td>250/500</td>\n",
              "      <td>2000</td>\n",
              "      <td>1415.74</td>\n",
              "      <td>6000000</td>\n",
              "      <td>FEMALE</td>\n",
              "      <td>PhD</td>\n",
              "      <td>armed-forces</td>\n",
              "      <td>unmarried</td>\n",
              "      <td>48900</td>\n",
              "      <td>-62400</td>\n",
              "      <td>Single Vehicle Collision</td>\n",
              "      <td>Front Collision</td>\n",
              "      <td>Major Damage</td>\n",
              "      <td>Police</td>\n",
              "      <td>5</td>\n",
              "      <td>1</td>\n",
              "      <td>NaN</td>\n",
              "      <td>1</td>\n",
              "      <td>2</td>\n",
              "      <td>NO</td>\n",
              "      <td>6340</td>\n",
              "      <td>6340</td>\n",
              "      <td>50720</td>\n",
              "      <td>1</td>\n",
              "      <td>(35, 50]</td>\n",
              "    </tr>\n",
              "    <tr>\n",
              "      <th>4</th>\n",
              "      <td>228</td>\n",
              "      <td>500/1000</td>\n",
              "      <td>1000</td>\n",
              "      <td>1583.91</td>\n",
              "      <td>6000000</td>\n",
              "      <td>MALE</td>\n",
              "      <td>Associate</td>\n",
              "      <td>sales</td>\n",
              "      <td>unmarried</td>\n",
              "      <td>66000</td>\n",
              "      <td>-46000</td>\n",
              "      <td>Vehicle Theft</td>\n",
              "      <td>NaN</td>\n",
              "      <td>Minor Damage</td>\n",
              "      <td>None</td>\n",
              "      <td>20</td>\n",
              "      <td>1</td>\n",
              "      <td>NO</td>\n",
              "      <td>0</td>\n",
              "      <td>1</td>\n",
              "      <td>NO</td>\n",
              "      <td>1300</td>\n",
              "      <td>650</td>\n",
              "      <td>4550</td>\n",
              "      <td>0</td>\n",
              "      <td>(35, 50]</td>\n",
              "    </tr>\n",
              "    <tr>\n",
              "      <th>...</th>\n",
              "      <td>...</td>\n",
              "      <td>...</td>\n",
              "      <td>...</td>\n",
              "      <td>...</td>\n",
              "      <td>...</td>\n",
              "      <td>...</td>\n",
              "      <td>...</td>\n",
              "      <td>...</td>\n",
              "      <td>...</td>\n",
              "      <td>...</td>\n",
              "      <td>...</td>\n",
              "      <td>...</td>\n",
              "      <td>...</td>\n",
              "      <td>...</td>\n",
              "      <td>...</td>\n",
              "      <td>...</td>\n",
              "      <td>...</td>\n",
              "      <td>...</td>\n",
              "      <td>...</td>\n",
              "      <td>...</td>\n",
              "      <td>...</td>\n",
              "      <td>...</td>\n",
              "      <td>...</td>\n",
              "      <td>...</td>\n",
              "      <td>...</td>\n",
              "      <td>...</td>\n",
              "    </tr>\n",
              "    <tr>\n",
              "      <th>995</th>\n",
              "      <td>3</td>\n",
              "      <td>500/1000</td>\n",
              "      <td>1000</td>\n",
              "      <td>1310.80</td>\n",
              "      <td>0</td>\n",
              "      <td>FEMALE</td>\n",
              "      <td>Masters</td>\n",
              "      <td>craft-repair</td>\n",
              "      <td>unmarried</td>\n",
              "      <td>0</td>\n",
              "      <td>0</td>\n",
              "      <td>Single Vehicle Collision</td>\n",
              "      <td>Front Collision</td>\n",
              "      <td>Minor Damage</td>\n",
              "      <td>Fire</td>\n",
              "      <td>20</td>\n",
              "      <td>1</td>\n",
              "      <td>YES</td>\n",
              "      <td>0</td>\n",
              "      <td>1</td>\n",
              "      <td>NaN</td>\n",
              "      <td>17440</td>\n",
              "      <td>8720</td>\n",
              "      <td>61040</td>\n",
              "      <td>0</td>\n",
              "      <td>(35, 50]</td>\n",
              "    </tr>\n",
              "    <tr>\n",
              "      <th>996</th>\n",
              "      <td>285</td>\n",
              "      <td>100/300</td>\n",
              "      <td>1000</td>\n",
              "      <td>1436.79</td>\n",
              "      <td>0</td>\n",
              "      <td>FEMALE</td>\n",
              "      <td>PhD</td>\n",
              "      <td>prof-specialty</td>\n",
              "      <td>wife</td>\n",
              "      <td>70900</td>\n",
              "      <td>0</td>\n",
              "      <td>Single Vehicle Collision</td>\n",
              "      <td>Rear Collision</td>\n",
              "      <td>Major Damage</td>\n",
              "      <td>Fire</td>\n",
              "      <td>23</td>\n",
              "      <td>1</td>\n",
              "      <td>YES</td>\n",
              "      <td>2</td>\n",
              "      <td>3</td>\n",
              "      <td>NaN</td>\n",
              "      <td>18080</td>\n",
              "      <td>18080</td>\n",
              "      <td>72320</td>\n",
              "      <td>0</td>\n",
              "      <td>(35, 50]</td>\n",
              "    </tr>\n",
              "    <tr>\n",
              "      <th>997</th>\n",
              "      <td>130</td>\n",
              "      <td>250/500</td>\n",
              "      <td>500</td>\n",
              "      <td>1383.49</td>\n",
              "      <td>3000000</td>\n",
              "      <td>FEMALE</td>\n",
              "      <td>Masters</td>\n",
              "      <td>armed-forces</td>\n",
              "      <td>other-relative</td>\n",
              "      <td>35100</td>\n",
              "      <td>0</td>\n",
              "      <td>Multi-vehicle Collision</td>\n",
              "      <td>Side Collision</td>\n",
              "      <td>Minor Damage</td>\n",
              "      <td>Police</td>\n",
              "      <td>4</td>\n",
              "      <td>3</td>\n",
              "      <td>NaN</td>\n",
              "      <td>2</td>\n",
              "      <td>3</td>\n",
              "      <td>YES</td>\n",
              "      <td>7500</td>\n",
              "      <td>7500</td>\n",
              "      <td>52500</td>\n",
              "      <td>0</td>\n",
              "      <td>(22, 35]</td>\n",
              "    </tr>\n",
              "    <tr>\n",
              "      <th>998</th>\n",
              "      <td>458</td>\n",
              "      <td>500/1000</td>\n",
              "      <td>2000</td>\n",
              "      <td>1356.92</td>\n",
              "      <td>5000000</td>\n",
              "      <td>MALE</td>\n",
              "      <td>Associate</td>\n",
              "      <td>handlers-cleaners</td>\n",
              "      <td>wife</td>\n",
              "      <td>0</td>\n",
              "      <td>0</td>\n",
              "      <td>Single Vehicle Collision</td>\n",
              "      <td>Rear Collision</td>\n",
              "      <td>Major Damage</td>\n",
              "      <td>Other</td>\n",
              "      <td>2</td>\n",
              "      <td>1</td>\n",
              "      <td>NaN</td>\n",
              "      <td>0</td>\n",
              "      <td>1</td>\n",
              "      <td>YES</td>\n",
              "      <td>5220</td>\n",
              "      <td>5220</td>\n",
              "      <td>36540</td>\n",
              "      <td>0</td>\n",
              "      <td>(50, 65]</td>\n",
              "    </tr>\n",
              "    <tr>\n",
              "      <th>999</th>\n",
              "      <td>456</td>\n",
              "      <td>250/500</td>\n",
              "      <td>1000</td>\n",
              "      <td>766.19</td>\n",
              "      <td>0</td>\n",
              "      <td>FEMALE</td>\n",
              "      <td>Associate</td>\n",
              "      <td>sales</td>\n",
              "      <td>husband</td>\n",
              "      <td>0</td>\n",
              "      <td>0</td>\n",
              "      <td>Parked Car</td>\n",
              "      <td>NaN</td>\n",
              "      <td>Minor Damage</td>\n",
              "      <td>Police</td>\n",
              "      <td>6</td>\n",
              "      <td>1</td>\n",
              "      <td>NaN</td>\n",
              "      <td>0</td>\n",
              "      <td>3</td>\n",
              "      <td>NaN</td>\n",
              "      <td>460</td>\n",
              "      <td>920</td>\n",
              "      <td>3680</td>\n",
              "      <td>0</td>\n",
              "      <td>(50, 65]</td>\n",
              "    </tr>\n",
              "  </tbody>\n",
              "</table>\n",
              "<p>1000 rows × 26 columns</p>\n",
              "</div>"
            ],
            "text/plain": [
              "     months_as_customer policy_csl  ...  fraud_reported   age_bin\n",
              "0                   328    250/500  ...               1  (35, 50]\n",
              "1                   228    250/500  ...               1  (35, 50]\n",
              "2                   134    100/300  ...               0  (22, 35]\n",
              "3                   256    250/500  ...               1  (35, 50]\n",
              "4                   228   500/1000  ...               0  (35, 50]\n",
              "..                  ...        ...  ...             ...       ...\n",
              "995                   3   500/1000  ...               0  (35, 50]\n",
              "996                 285    100/300  ...               0  (35, 50]\n",
              "997                 130    250/500  ...               0  (22, 35]\n",
              "998                 458   500/1000  ...               0  (50, 65]\n",
              "999                 456    250/500  ...               0  (50, 65]\n",
              "\n",
              "[1000 rows x 26 columns]"
            ]
          },
          "metadata": {
            "tags": []
          },
          "execution_count": 210
        }
      ]
    },
    {
      "cell_type": "code",
      "metadata": {
        "id": "YX8EszAZM3uw"
      },
      "source": [
        "\n",
        "X = data.drop('fraud_reported', axis = 1)\n",
        "y = data['fraud_reported']"
      ],
      "execution_count": 211,
      "outputs": []
    },
    {
      "cell_type": "code",
      "metadata": {
        "id": "Vj0eSvzNQM8y"
      },
      "source": [
        "cat_df = X.select_dtypes(include = ['object'])"
      ],
      "execution_count": 212,
      "outputs": []
    },
    {
      "cell_type": "code",
      "metadata": {
        "colab": {
          "base_uri": "https://localhost:8080/"
        },
        "id": "U2rTcIMyQTkO",
        "outputId": "4e1073c2-0752-4fdd-cbb8-98a930479d16"
      },
      "source": [
        "for col in cat_df.columns:\n",
        "    print(f\"{col}: \\n{cat_df[col].unique()}\\n\")"
      ],
      "execution_count": 213,
      "outputs": [
        {
          "output_type": "stream",
          "text": [
            "policy_csl: \n",
            "['250/500' '100/300' '500/1000']\n",
            "\n",
            "insured_sex: \n",
            "['MALE' 'FEMALE']\n",
            "\n",
            "insured_education_level: \n",
            "['MD' 'PhD' 'Associate' 'Masters' 'High School' 'College' 'JD']\n",
            "\n",
            "insured_occupation: \n",
            "['craft-repair' 'machine-op-inspct' 'sales' 'armed-forces' 'tech-support'\n",
            " 'prof-specialty' 'other-service' 'priv-house-serv' 'exec-managerial'\n",
            " 'protective-serv' 'transport-moving' 'handlers-cleaners' 'adm-clerical'\n",
            " 'farming-fishing']\n",
            "\n",
            "insured_relationship: \n",
            "['husband' 'other-relative' 'own-child' 'unmarried' 'wife' 'not-in-family']\n",
            "\n",
            "incident_type: \n",
            "['Single Vehicle Collision' 'Vehicle Theft' 'Multi-vehicle Collision'\n",
            " 'Parked Car']\n",
            "\n",
            "collision_type: \n",
            "['Side Collision' nan 'Rear Collision' 'Front Collision']\n",
            "\n",
            "incident_severity: \n",
            "['Major Damage' 'Minor Damage' 'Total Loss' 'Trivial Damage']\n",
            "\n",
            "authorities_contacted: \n",
            "['Police' 'None' 'Fire' 'Other' 'Ambulance']\n",
            "\n",
            "property_damage: \n",
            "['YES' nan 'NO']\n",
            "\n",
            "police_report_available: \n",
            "['YES' nan 'NO']\n",
            "\n"
          ],
          "name": "stdout"
        }
      ]
    },
    {
      "cell_type": "code",
      "metadata": {
        "id": "BKXVTkKaQbGB"
      },
      "source": [
        "cat_df = pd.get_dummies(cat_df, drop_first = True)"
      ],
      "execution_count": 214,
      "outputs": []
    },
    {
      "cell_type": "code",
      "metadata": {
        "id": "C4pmo6MFQg-L"
      },
      "source": [
        "num_df = X.select_dtypes(include = ['int64'])"
      ],
      "execution_count": 215,
      "outputs": []
    },
    {
      "cell_type": "code",
      "metadata": {
        "id": "eBGlc7k7QoRs"
      },
      "source": [
        "X = pd.concat([num_df, cat_df], axis = 1)"
      ],
      "execution_count": 216,
      "outputs": []
    },
    {
      "cell_type": "code",
      "metadata": {
        "colab": {
          "base_uri": "https://localhost:8080/",
          "height": 1000
        },
        "id": "Zi1IPv0MQx4W",
        "outputId": "a50a64cf-4d67-4643-a47e-5f1bef336dca"
      },
      "source": [
        "plt.figure(figsize = (25, 20))\n",
        "plotnumber = 1\n",
        "\n",
        "for col in X.columns:\n",
        "    if plotnumber <= 24:\n",
        "        ax = plt.subplot(5, 5, plotnumber)\n",
        "        sns.distplot(X[col])\n",
        "        plt.xlabel(col, fontsize = 15)\n",
        "        \n",
        "    plotnumber += 1\n",
        "    \n",
        "plt.tight_layout()\n",
        "plt.show()"
      ],
      "execution_count": 217,
      "outputs": [
        {
          "output_type": "stream",
          "text": [
            "/usr/local/lib/python3.7/dist-packages/seaborn/distributions.py:2557: FutureWarning: `distplot` is a deprecated function and will be removed in a future version. Please adapt your code to use either `displot` (a figure-level function with similar flexibility) or `histplot` (an axes-level function for histograms).\n",
            "  warnings.warn(msg, FutureWarning)\n",
            "/usr/local/lib/python3.7/dist-packages/seaborn/distributions.py:2557: FutureWarning: `distplot` is a deprecated function and will be removed in a future version. Please adapt your code to use either `displot` (a figure-level function with similar flexibility) or `histplot` (an axes-level function for histograms).\n",
            "  warnings.warn(msg, FutureWarning)\n",
            "/usr/local/lib/python3.7/dist-packages/seaborn/distributions.py:2557: FutureWarning: `distplot` is a deprecated function and will be removed in a future version. Please adapt your code to use either `displot` (a figure-level function with similar flexibility) or `histplot` (an axes-level function for histograms).\n",
            "  warnings.warn(msg, FutureWarning)\n",
            "/usr/local/lib/python3.7/dist-packages/seaborn/distributions.py:2557: FutureWarning: `distplot` is a deprecated function and will be removed in a future version. Please adapt your code to use either `displot` (a figure-level function with similar flexibility) or `histplot` (an axes-level function for histograms).\n",
            "  warnings.warn(msg, FutureWarning)\n",
            "/usr/local/lib/python3.7/dist-packages/seaborn/distributions.py:2557: FutureWarning: `distplot` is a deprecated function and will be removed in a future version. Please adapt your code to use either `displot` (a figure-level function with similar flexibility) or `histplot` (an axes-level function for histograms).\n",
            "  warnings.warn(msg, FutureWarning)\n",
            "/usr/local/lib/python3.7/dist-packages/seaborn/distributions.py:2557: FutureWarning: `distplot` is a deprecated function and will be removed in a future version. Please adapt your code to use either `displot` (a figure-level function with similar flexibility) or `histplot` (an axes-level function for histograms).\n",
            "  warnings.warn(msg, FutureWarning)\n",
            "/usr/local/lib/python3.7/dist-packages/seaborn/distributions.py:2557: FutureWarning: `distplot` is a deprecated function and will be removed in a future version. Please adapt your code to use either `displot` (a figure-level function with similar flexibility) or `histplot` (an axes-level function for histograms).\n",
            "  warnings.warn(msg, FutureWarning)\n",
            "/usr/local/lib/python3.7/dist-packages/seaborn/distributions.py:2557: FutureWarning: `distplot` is a deprecated function and will be removed in a future version. Please adapt your code to use either `displot` (a figure-level function with similar flexibility) or `histplot` (an axes-level function for histograms).\n",
            "  warnings.warn(msg, FutureWarning)\n",
            "/usr/local/lib/python3.7/dist-packages/seaborn/distributions.py:2557: FutureWarning: `distplot` is a deprecated function and will be removed in a future version. Please adapt your code to use either `displot` (a figure-level function with similar flexibility) or `histplot` (an axes-level function for histograms).\n",
            "  warnings.warn(msg, FutureWarning)\n",
            "/usr/local/lib/python3.7/dist-packages/seaborn/distributions.py:2557: FutureWarning: `distplot` is a deprecated function and will be removed in a future version. Please adapt your code to use either `displot` (a figure-level function with similar flexibility) or `histplot` (an axes-level function for histograms).\n",
            "  warnings.warn(msg, FutureWarning)\n",
            "/usr/local/lib/python3.7/dist-packages/seaborn/distributions.py:2557: FutureWarning: `distplot` is a deprecated function and will be removed in a future version. Please adapt your code to use either `displot` (a figure-level function with similar flexibility) or `histplot` (an axes-level function for histograms).\n",
            "  warnings.warn(msg, FutureWarning)\n",
            "/usr/local/lib/python3.7/dist-packages/seaborn/distributions.py:2557: FutureWarning: `distplot` is a deprecated function and will be removed in a future version. Please adapt your code to use either `displot` (a figure-level function with similar flexibility) or `histplot` (an axes-level function for histograms).\n",
            "  warnings.warn(msg, FutureWarning)\n",
            "/usr/local/lib/python3.7/dist-packages/seaborn/distributions.py:2557: FutureWarning: `distplot` is a deprecated function and will be removed in a future version. Please adapt your code to use either `displot` (a figure-level function with similar flexibility) or `histplot` (an axes-level function for histograms).\n",
            "  warnings.warn(msg, FutureWarning)\n",
            "/usr/local/lib/python3.7/dist-packages/seaborn/distributions.py:2557: FutureWarning: `distplot` is a deprecated function and will be removed in a future version. Please adapt your code to use either `displot` (a figure-level function with similar flexibility) or `histplot` (an axes-level function for histograms).\n",
            "  warnings.warn(msg, FutureWarning)\n",
            "/usr/local/lib/python3.7/dist-packages/seaborn/distributions.py:2557: FutureWarning: `distplot` is a deprecated function and will be removed in a future version. Please adapt your code to use either `displot` (a figure-level function with similar flexibility) or `histplot` (an axes-level function for histograms).\n",
            "  warnings.warn(msg, FutureWarning)\n",
            "/usr/local/lib/python3.7/dist-packages/seaborn/distributions.py:2557: FutureWarning: `distplot` is a deprecated function and will be removed in a future version. Please adapt your code to use either `displot` (a figure-level function with similar flexibility) or `histplot` (an axes-level function for histograms).\n",
            "  warnings.warn(msg, FutureWarning)\n",
            "/usr/local/lib/python3.7/dist-packages/seaborn/distributions.py:2557: FutureWarning: `distplot` is a deprecated function and will be removed in a future version. Please adapt your code to use either `displot` (a figure-level function with similar flexibility) or `histplot` (an axes-level function for histograms).\n",
            "  warnings.warn(msg, FutureWarning)\n",
            "/usr/local/lib/python3.7/dist-packages/seaborn/distributions.py:2557: FutureWarning: `distplot` is a deprecated function and will be removed in a future version. Please adapt your code to use either `displot` (a figure-level function with similar flexibility) or `histplot` (an axes-level function for histograms).\n",
            "  warnings.warn(msg, FutureWarning)\n",
            "/usr/local/lib/python3.7/dist-packages/seaborn/distributions.py:2557: FutureWarning: `distplot` is a deprecated function and will be removed in a future version. Please adapt your code to use either `displot` (a figure-level function with similar flexibility) or `histplot` (an axes-level function for histograms).\n",
            "  warnings.warn(msg, FutureWarning)\n",
            "/usr/local/lib/python3.7/dist-packages/seaborn/distributions.py:2557: FutureWarning: `distplot` is a deprecated function and will be removed in a future version. Please adapt your code to use either `displot` (a figure-level function with similar flexibility) or `histplot` (an axes-level function for histograms).\n",
            "  warnings.warn(msg, FutureWarning)\n",
            "/usr/local/lib/python3.7/dist-packages/seaborn/distributions.py:2557: FutureWarning: `distplot` is a deprecated function and will be removed in a future version. Please adapt your code to use either `displot` (a figure-level function with similar flexibility) or `histplot` (an axes-level function for histograms).\n",
            "  warnings.warn(msg, FutureWarning)\n",
            "/usr/local/lib/python3.7/dist-packages/seaborn/distributions.py:2557: FutureWarning: `distplot` is a deprecated function and will be removed in a future version. Please adapt your code to use either `displot` (a figure-level function with similar flexibility) or `histplot` (an axes-level function for histograms).\n",
            "  warnings.warn(msg, FutureWarning)\n",
            "/usr/local/lib/python3.7/dist-packages/seaborn/distributions.py:2557: FutureWarning: `distplot` is a deprecated function and will be removed in a future version. Please adapt your code to use either `displot` (a figure-level function with similar flexibility) or `histplot` (an axes-level function for histograms).\n",
            "  warnings.warn(msg, FutureWarning)\n",
            "/usr/local/lib/python3.7/dist-packages/seaborn/distributions.py:2557: FutureWarning: `distplot` is a deprecated function and will be removed in a future version. Please adapt your code to use either `displot` (a figure-level function with similar flexibility) or `histplot` (an axes-level function for histograms).\n",
            "  warnings.warn(msg, FutureWarning)\n"
          ],
          "name": "stderr"
        },
        {
          "output_type": "display_data",
          "data": {
            "image/png": "[encoded data removed]",
            "text/plain": [
              "<Figure size 1800x1440 with 24 Axes>"
            ]
          },
          "metadata": {
            "tags": [],
            "needs_background": "light"
          }
        }
      ]
    },
    {
      "cell_type": "code",
      "metadata": {
        "colab": {
          "base_uri": "https://localhost:8080/",
          "height": 1000
        },
        "id": "x7SKRypdRAIX",
        "outputId": "2aaa0836-abf6-4008-ab5e-01cbb220b207"
      },
      "source": [
        "plt.figure(figsize = (20, 15))\n",
        "plotnumber = 1\n",
        "\n",
        "for col in X.columns:\n",
        "    if plotnumber <= 24:\n",
        "        ax = plt.subplot(5, 5, plotnumber)\n",
        "        sns.boxplot(X[col])\n",
        "        plt.xlabel(col, fontsize = 15)\n",
        "    \n",
        "    plotnumber += 1\n",
        "plt.tight_layout()\n",
        "plt.show()"
      ],
      "execution_count": 218,
      "outputs": [
        {
          "output_type": "stream",
          "text": [
            "/usr/local/lib/python3.7/dist-packages/seaborn/_decorators.py:43: FutureWarning: Pass the following variable as a keyword arg: x. From version 0.12, the only valid positional argument will be `data`, and passing other arguments without an explicit keyword will result in an error or misinterpretation.\n",
            "  FutureWarning\n",
            "/usr/local/lib/python3.7/dist-packages/seaborn/_decorators.py:43: FutureWarning: Pass the following variable as a keyword arg: x. From version 0.12, the only valid positional argument will be `data`, and passing other arguments without an explicit keyword will result in an error or misinterpretation.\n",
            "  FutureWarning\n",
            "/usr/local/lib/python3.7/dist-packages/seaborn/_decorators.py:43: FutureWarning: Pass the following variable as a keyword arg: x. From version 0.12, the only valid positional argument will be `data`, and passing other arguments without an explicit keyword will result in an error or misinterpretation.\n",
            "  FutureWarning\n",
            "/usr/local/lib/python3.7/dist-packages/seaborn/_decorators.py:43: FutureWarning: Pass the following variable as a keyword arg: x. From version 0.12, the only valid positional argument will be `data`, and passing other arguments without an explicit keyword will result in an error or misinterpretation.\n",
            "  FutureWarning\n",
            "/usr/local/lib/python3.7/dist-packages/seaborn/_decorators.py:43: FutureWarning: Pass the following variable as a keyword arg: x. From version 0.12, the only valid positional argument will be `data`, and passing other arguments without an explicit keyword will result in an error or misinterpretation.\n",
            "  FutureWarning\n",
            "/usr/local/lib/python3.7/dist-packages/seaborn/_decorators.py:43: FutureWarning: Pass the following variable as a keyword arg: x. From version 0.12, the only valid positional argument will be `data`, and passing other arguments without an explicit keyword will result in an error or misinterpretation.\n",
            "  FutureWarning\n",
            "/usr/local/lib/python3.7/dist-packages/seaborn/_decorators.py:43: FutureWarning: Pass the following variable as a keyword arg: x. From version 0.12, the only valid positional argument will be `data`, and passing other arguments without an explicit keyword will result in an error or misinterpretation.\n",
            "  FutureWarning\n",
            "/usr/local/lib/python3.7/dist-packages/seaborn/_decorators.py:43: FutureWarning: Pass the following variable as a keyword arg: x. From version 0.12, the only valid positional argument will be `data`, and passing other arguments without an explicit keyword will result in an error or misinterpretation.\n",
            "  FutureWarning\n",
            "/usr/local/lib/python3.7/dist-packages/seaborn/_decorators.py:43: FutureWarning: Pass the following variable as a keyword arg: x. From version 0.12, the only valid positional argument will be `data`, and passing other arguments without an explicit keyword will result in an error or misinterpretation.\n",
            "  FutureWarning\n",
            "/usr/local/lib/python3.7/dist-packages/seaborn/_decorators.py:43: FutureWarning: Pass the following variable as a keyword arg: x. From version 0.12, the only valid positional argument will be `data`, and passing other arguments without an explicit keyword will result in an error or misinterpretation.\n",
            "  FutureWarning\n",
            "/usr/local/lib/python3.7/dist-packages/seaborn/_decorators.py:43: FutureWarning: Pass the following variable as a keyword arg: x. From version 0.12, the only valid positional argument will be `data`, and passing other arguments without an explicit keyword will result in an error or misinterpretation.\n",
            "  FutureWarning\n",
            "/usr/local/lib/python3.7/dist-packages/seaborn/_decorators.py:43: FutureWarning: Pass the following variable as a keyword arg: x. From version 0.12, the only valid positional argument will be `data`, and passing other arguments without an explicit keyword will result in an error or misinterpretation.\n",
            "  FutureWarning\n",
            "/usr/local/lib/python3.7/dist-packages/seaborn/_decorators.py:43: FutureWarning: Pass the following variable as a keyword arg: x. From version 0.12, the only valid positional argument will be `data`, and passing other arguments without an explicit keyword will result in an error or misinterpretation.\n",
            "  FutureWarning\n",
            "/usr/local/lib/python3.7/dist-packages/seaborn/_decorators.py:43: FutureWarning: Pass the following variable as a keyword arg: x. From version 0.12, the only valid positional argument will be `data`, and passing other arguments without an explicit keyword will result in an error or misinterpretation.\n",
            "  FutureWarning\n",
            "/usr/local/lib/python3.7/dist-packages/seaborn/_decorators.py:43: FutureWarning: Pass the following variable as a keyword arg: x. From version 0.12, the only valid positional argument will be `data`, and passing other arguments without an explicit keyword will result in an error or misinterpretation.\n",
            "  FutureWarning\n",
            "/usr/local/lib/python3.7/dist-packages/seaborn/_decorators.py:43: FutureWarning: Pass the following variable as a keyword arg: x. From version 0.12, the only valid positional argument will be `data`, and passing other arguments without an explicit keyword will result in an error or misinterpretation.\n",
            "  FutureWarning\n",
            "/usr/local/lib/python3.7/dist-packages/seaborn/_decorators.py:43: FutureWarning: Pass the following variable as a keyword arg: x. From version 0.12, the only valid positional argument will be `data`, and passing other arguments without an explicit keyword will result in an error or misinterpretation.\n",
            "  FutureWarning\n",
            "/usr/local/lib/python3.7/dist-packages/seaborn/_decorators.py:43: FutureWarning: Pass the following variable as a keyword arg: x. From version 0.12, the only valid positional argument will be `data`, and passing other arguments without an explicit keyword will result in an error or misinterpretation.\n",
            "  FutureWarning\n",
            "/usr/local/lib/python3.7/dist-packages/seaborn/_decorators.py:43: FutureWarning: Pass the following variable as a keyword arg: x. From version 0.12, the only valid positional argument will be `data`, and passing other arguments without an explicit keyword will result in an error or misinterpretation.\n",
            "  FutureWarning\n",
            "/usr/local/lib/python3.7/dist-packages/seaborn/_decorators.py:43: FutureWarning: Pass the following variable as a keyword arg: x. From version 0.12, the only valid positional argument will be `data`, and passing other arguments without an explicit keyword will result in an error or misinterpretation.\n",
            "  FutureWarning\n",
            "/usr/local/lib/python3.7/dist-packages/seaborn/_decorators.py:43: FutureWarning: Pass the following variable as a keyword arg: x. From version 0.12, the only valid positional argument will be `data`, and passing other arguments without an explicit keyword will result in an error or misinterpretation.\n",
            "  FutureWarning\n",
            "/usr/local/lib/python3.7/dist-packages/seaborn/_decorators.py:43: FutureWarning: Pass the following variable as a keyword arg: x. From version 0.12, the only valid positional argument will be `data`, and passing other arguments without an explicit keyword will result in an error or misinterpretation.\n",
            "  FutureWarning\n",
            "/usr/local/lib/python3.7/dist-packages/seaborn/_decorators.py:43: FutureWarning: Pass the following variable as a keyword arg: x. From version 0.12, the only valid positional argument will be `data`, and passing other arguments without an explicit keyword will result in an error or misinterpretation.\n",
            "  FutureWarning\n",
            "/usr/local/lib/python3.7/dist-packages/seaborn/_decorators.py:43: FutureWarning: Pass the following variable as a keyword arg: x. From version 0.12, the only valid positional argument will be `data`, and passing other arguments without an explicit keyword will result in an error or misinterpretation.\n",
            "  FutureWarning\n"
          ],
          "name": "stderr"
        },
        {
          "output_type": "display_data",
          "data": {
            "image/png": "[encoded data removed]",
            "text/plain": [
              "<Figure size 1440x1080 with 24 Axes>"
            ]
          },
          "metadata": {
            "tags": [],
            "needs_background": "light"
          }
        }
      ]
    },
    {
      "cell_type": "markdown",
      "metadata": {
        "id": "66l2z0pq_50o"
      },
      "source": [
        "**Data modeling**"
      ]
    },
    {
      "cell_type": "code",
      "metadata": {
        "id": "FTzxLd79RHiW"
      },
      "source": [
        "# splitting data into training set and test set\n",
        "\n",
        "from sklearn.model_selection import train_test_split\n",
        "\n",
        "X_train, X_test, y_train, y_test = train_test_split(X, y, test_size = 0.25)"
      ],
      "execution_count": 219,
      "outputs": []
    },
    {
      "cell_type": "code",
      "metadata": {
        "id": "Lry2josiROTP"
      },
      "source": [
        "num_df = X_train[['months_as_customer', 'policy_deductable', 'umbrella_limit',\n",
        "       'capital-gains', 'capital-loss', 'incident_hour_of_the_day',\n",
        "       'number_of_vehicles_involved', 'bodily_injuries', 'witnesses', 'injury_claim', 'property_claim',\n",
        "       'vehicle_claim']]"
      ],
      "execution_count": 220,
      "outputs": []
    },
    {
      "cell_type": "code",
      "metadata": {
        "id": "RyGqU2QLRSK3"
      },
      "source": [
        "from sklearn.preprocessing import StandardScaler\n",
        "\n",
        "scaler = StandardScaler()\n",
        "scaled_data = scaler.fit_transform(num_df)"
      ],
      "execution_count": 221,
      "outputs": []
    },
    {
      "cell_type": "code",
      "metadata": {
        "colab": {
          "base_uri": "https://localhost:8080/",
          "height": 206
        },
        "id": "1ojygessRVbz",
        "outputId": "d4698471-9a58-4dbe-da04-4a3ee9be4055"
      },
      "source": [
        "scaled_num_df = pd.DataFrame(data = scaled_data, columns = num_df.columns, index = X_train.index)\n",
        "scaled_num_df.head()"
      ],
      "execution_count": 222,
      "outputs": [
        {
          "output_type": "execute_result",
          "data": {
            "text/html": [
              "<div>\n",
              "<style scoped>\n",
              "    .dataframe tbody tr th:only-of-type {\n",
              "        vertical-align: middle;\n",
              "    }\n",
              "\n",
              "    .dataframe tbody tr th {\n",
              "        vertical-align: top;\n",
              "    }\n",
              "\n",
              "    .dataframe thead th {\n",
              "        text-align: right;\n",
              "    }\n",
              "</style>\n",
              "<table border=\"1\" class=\"dataframe\">\n",
              "  <thead>\n",
              "    <tr style=\"text-align: right;\">\n",
              "      <th></th>\n",
              "      <th>months_as_customer</th>\n",
              "      <th>policy_deductable</th>\n",
              "      <th>umbrella_limit</th>\n",
              "      <th>capital-gains</th>\n",
              "      <th>capital-loss</th>\n",
              "      <th>incident_hour_of_the_day</th>\n",
              "      <th>number_of_vehicles_involved</th>\n",
              "      <th>bodily_injuries</th>\n",
              "      <th>witnesses</th>\n",
              "      <th>injury_claim</th>\n",
              "      <th>property_claim</th>\n",
              "      <th>vehicle_claim</th>\n",
              "    </tr>\n",
              "  </thead>\n",
              "  <tbody>\n",
              "    <tr>\n",
              "      <th>220</th>\n",
              "      <td>0.395330</td>\n",
              "      <td>1.422540</td>\n",
              "      <td>-0.477657</td>\n",
              "      <td>-0.917133</td>\n",
              "      <td>-1.158824</td>\n",
              "      <td>0.915918</td>\n",
              "      <td>-0.812221</td>\n",
              "      <td>-0.006468</td>\n",
              "      <td>0.493853</td>\n",
              "      <td>0.757167</td>\n",
              "      <td>-0.355446</td>\n",
              "      <td>0.378664</td>\n",
              "    </tr>\n",
              "    <tr>\n",
              "      <th>157</th>\n",
              "      <td>1.998304</td>\n",
              "      <td>-1.028237</td>\n",
              "      <td>2.580514</td>\n",
              "      <td>-0.917133</td>\n",
              "      <td>0.942591</td>\n",
              "      <td>-0.530878</td>\n",
              "      <td>-0.812221</td>\n",
              "      <td>1.206236</td>\n",
              "      <td>1.401670</td>\n",
              "      <td>-1.224350</td>\n",
              "      <td>-1.387444</td>\n",
              "      <td>-1.738350</td>\n",
              "    </tr>\n",
              "    <tr>\n",
              "      <th>981</th>\n",
              "      <td>-1.330950</td>\n",
              "      <td>1.422540</td>\n",
              "      <td>-0.477657</td>\n",
              "      <td>-0.917133</td>\n",
              "      <td>-1.417018</td>\n",
              "      <td>0.481879</td>\n",
              "      <td>1.162385</td>\n",
              "      <td>-0.006468</td>\n",
              "      <td>0.493853</td>\n",
              "      <td>-0.257707</td>\n",
              "      <td>1.034507</td>\n",
              "      <td>0.279916</td>\n",
              "    </tr>\n",
              "    <tr>\n",
              "      <th>842</th>\n",
              "      <td>0.641941</td>\n",
              "      <td>-1.028237</td>\n",
              "      <td>-0.477657</td>\n",
              "      <td>-0.917133</td>\n",
              "      <td>0.942591</td>\n",
              "      <td>-0.675557</td>\n",
              "      <td>-0.812221</td>\n",
              "      <td>1.206236</td>\n",
              "      <td>-0.413965</td>\n",
              "      <td>-1.312775</td>\n",
              "      <td>-1.343485</td>\n",
              "      <td>-1.774258</td>\n",
              "    </tr>\n",
              "    <tr>\n",
              "      <th>450</th>\n",
              "      <td>-1.480678</td>\n",
              "      <td>-1.028237</td>\n",
              "      <td>1.706751</td>\n",
              "      <td>1.601793</td>\n",
              "      <td>-0.861183</td>\n",
              "      <td>-1.398955</td>\n",
              "      <td>-0.812221</td>\n",
              "      <td>-1.219171</td>\n",
              "      <td>-0.413965</td>\n",
              "      <td>-0.233591</td>\n",
              "      <td>1.084747</td>\n",
              "      <td>-0.004711</td>\n",
              "    </tr>\n",
              "  </tbody>\n",
              "</table>\n",
              "</div>"
            ],
            "text/plain": [
              "     months_as_customer  policy_deductable  ...  property_claim  vehicle_claim\n",
              "220            0.395330           1.422540  ...       -0.355446       0.378664\n",
              "157            1.998304          -1.028237  ...       -1.387444      -1.738350\n",
              "981           -1.330950           1.422540  ...        1.034507       0.279916\n",
              "842            0.641941          -1.028237  ...       -1.343485      -1.774258\n",
              "450           -1.480678          -1.028237  ...        1.084747      -0.004711\n",
              "\n",
              "[5 rows x 12 columns]"
            ]
          },
          "metadata": {
            "tags": []
          },
          "execution_count": 222
        }
      ]
    },
    {
      "cell_type": "code",
      "metadata": {
        "colab": {
          "base_uri": "https://localhost:8080/"
        },
        "id": "-iNP67vERam4",
        "outputId": "a9499c0a-0c81-4c4f-8d8f-18e8d01658c9"
      },
      "source": [
        "X_train.drop(columns = scaled_num_df.columns, inplace = True)"
      ],
      "execution_count": 223,
      "outputs": [
        {
          "output_type": "stream",
          "text": [
            "/usr/local/lib/python3.7/dist-packages/pandas/core/frame.py:4174: SettingWithCopyWarning: \n",
            "A value is trying to be set on a copy of a slice from a DataFrame\n",
            "\n",
            "See the caveats in the documentation: https://pandas.pydata.org/pandas-docs/stable/user_guide/indexing.html#returning-a-view-versus-a-copy\n",
            "  errors=errors,\n"
          ],
          "name": "stderr"
        }
      ]
    },
    {
      "cell_type": "code",
      "metadata": {
        "id": "rvqUHypYRfE5"
      },
      "source": [
        "X_train = pd.concat([scaled_num_df, X_train], axis = 1)"
      ],
      "execution_count": 224,
      "outputs": []
    },
    {
      "cell_type": "code",
      "metadata": {
        "id": "2Kqwt55VRkCH"
      },
      "source": [
        "from sklearn.svm import SVC\n",
        "\n",
        "svc = SVC()\n",
        "svc.fit(X_train, y_train)\n",
        "\n",
        "y_pred = svc.predict(X_test)"
      ],
      "execution_count": 225,
      "outputs": []
    },
    {
      "cell_type": "code",
      "metadata": {
        "colab": {
          "base_uri": "https://localhost:8080/"
        },
        "id": "8s3VqdK0RkQX",
        "outputId": "53a602f1-1805-4cd5-da8d-a5ca9e323f91"
      },
      "source": [
        "from sklearn.metrics import accuracy_score, confusion_matrix, classification_report\n",
        "\n",
        "svc_train_acc = accuracy_score(y_train, svc.predict(X_train))\n",
        "svc_test_acc = accuracy_score(y_test, y_pred)\n",
        "\n",
        "print(f\"Training accuracy of Support Vector Classifier is : {svc_train_acc}\")\n",
        "print(f\"Test accuracy of Support Vector Classifier is : {svc_test_acc}\")\n",
        "\n",
        "print(confusion_matrix(y_test, y_pred))\n",
        "print(classification_report(y_test, y_pred))"
      ],
      "execution_count": 226,
      "outputs": [
        {
          "output_type": "stream",
          "text": [
            "Training accuracy of Support Vector Classifier is : 0.8826666666666667\n",
            "Test accuracy of Support Vector Classifier is : 0.792\n",
            "[[198   0]\n",
            " [ 52   0]]\n",
            "              precision    recall  f1-score   support\n",
            "\n",
            "           0       0.79      1.00      0.88       198\n",
            "           1       0.00      0.00      0.00        52\n",
            "\n",
            "    accuracy                           0.79       250\n",
            "   macro avg       0.40      0.50      0.44       250\n",
            "weighted avg       0.63      0.79      0.70       250\n",
            "\n"
          ],
          "name": "stdout"
        },
        {
          "output_type": "stream",
          "text": [
            "/usr/local/lib/python3.7/dist-packages/sklearn/metrics/_classification.py:1272: UndefinedMetricWarning: Precision and F-score are ill-defined and being set to 0.0 in labels with no predicted samples. Use `zero_division` parameter to control this behavior.\n",
            "  _warn_prf(average, modifier, msg_start, len(result))\n"
          ],
          "name": "stderr"
        }
      ]
    },
    {
      "cell_type": "code",
      "metadata": {
        "id": "uJo2ppWYSJN_"
      },
      "source": [
        "from xgboost import XGBClassifier\n",
        "\n",
        "xgb = XGBClassifier()\n",
        "xgb.fit(X_train, y_train)\n",
        "\n",
        "y_pred = xgb.predict(X_test)"
      ],
      "execution_count": 227,
      "outputs": []
    },
    {
      "cell_type": "code",
      "metadata": {
        "colab": {
          "base_uri": "https://localhost:8080/"
        },
        "id": "ZZdigHWjSOJk",
        "outputId": "54177e47-2db0-475b-ea97-6b0a9bd82619"
      },
      "source": [
        "xgb_train_acc = accuracy_score(y_train, xgb.predict(X_train))\n",
        "xgb_test_acc = accuracy_score(y_test, y_pred)\n",
        "\n",
        "print(f\"Training accuracy of XgBoost is : {xgb_train_acc}\")\n",
        "print(f\"Test accuracy of XgBoost is : {xgb_test_acc}\")\n",
        "\n",
        "print(confusion_matrix(y_test, y_pred))\n",
        "print(classification_report(y_test, y_pred))"
      ],
      "execution_count": 228,
      "outputs": [
        {
          "output_type": "stream",
          "text": [
            "Training accuracy of XgBoost is : 0.904\n",
            "Test accuracy of XgBoost is : 0.728\n",
            "[[151  47]\n",
            " [ 21  31]]\n",
            "              precision    recall  f1-score   support\n",
            "\n",
            "           0       0.88      0.76      0.82       198\n",
            "           1       0.40      0.60      0.48        52\n",
            "\n",
            "    accuracy                           0.73       250\n",
            "   macro avg       0.64      0.68      0.65       250\n",
            "weighted avg       0.78      0.73      0.75       250\n",
            "\n"
          ],
          "name": "stdout"
        }
      ]
    },
    {
      "cell_type": "code",
      "metadata": {
        "id": "iTHelgFkSklA"
      },
      "source": [
        "from sklearn.ensemble import RandomForestClassifier\n",
        "\n",
        "rand_clf = RandomForestClassifier(criterion= 'entropy', max_depth= 10, max_features= 'sqrt', min_samples_leaf= 1, min_samples_split= 3, n_estimators= 140)\n",
        "rand_clf.fit(X_train, y_train)\n",
        "\n",
        "y_pred = rand_clf.predict(X_test)"
      ],
      "execution_count": 229,
      "outputs": []
    },
    {
      "cell_type": "code",
      "metadata": {
        "colab": {
          "base_uri": "https://localhost:8080/"
        },
        "id": "84Gu9NYaSrhi",
        "outputId": "c38730d6-6e70-43b5-9b55-0c429bedacfc"
      },
      "source": [
        "from sklearn.metrics import accuracy_score, confusion_matrix, classification_report\n",
        "\n",
        "rand_clf_train_acc = accuracy_score(y_train, rand_clf.predict(X_train))\n",
        "rand_clf_test_acc = accuracy_score(y_test, y_pred)\n",
        "\n",
        "print(f\"Training accuracy of Random Forest is : {rand_clf_train_acc}\")\n",
        "print(f\"Test accuracy of Random Forest is : {rand_clf_test_acc}\")\n",
        "\n",
        "print(confusion_matrix(y_test, y_pred))\n",
        "print(classification_report(y_test, y_pred))"
      ],
      "execution_count": 230,
      "outputs": [
        {
          "output_type": "stream",
          "text": [
            "Training accuracy of Random Forest is : 0.968\n",
            "Test accuracy of Random Forest is : 0.768\n",
            "[[172  26]\n",
            " [ 32  20]]\n",
            "              precision    recall  f1-score   support\n",
            "\n",
            "           0       0.84      0.87      0.86       198\n",
            "           1       0.43      0.38      0.41        52\n",
            "\n",
            "    accuracy                           0.77       250\n",
            "   macro avg       0.64      0.63      0.63       250\n",
            "weighted avg       0.76      0.77      0.76       250\n",
            "\n"
          ],
          "name": "stdout"
        }
      ]
    },
    {
      "cell_type": "code",
      "metadata": {
        "colab": {
          "base_uri": "https://localhost:8080/",
          "height": 144
        },
        "id": "W-eKvSAoS1ab",
        "outputId": "686e64fd-d9ef-42e7-ec56-b1bd7b81f44f"
      },
      "source": [
        "models = pd.DataFrame({\n",
        "    'Model' : ['SVC', 'Random Forest',\n",
        "             'XgBoost'],\n",
        "    'Score' : [svc_test_acc, rand_clf_test_acc, xgb_test_acc]\n",
        "})\n",
        "\n",
        "\n",
        "models.sort_values(by = 'Score', ascending = False)"
      ],
      "execution_count": 231,
      "outputs": [
        {
          "output_type": "execute_result",
          "data": {
            "text/html": [
              "<div>\n",
              "<style scoped>\n",
              "    .dataframe tbody tr th:only-of-type {\n",
              "        vertical-align: middle;\n",
              "    }\n",
              "\n",
              "    .dataframe tbody tr th {\n",
              "        vertical-align: top;\n",
              "    }\n",
              "\n",
              "    .dataframe thead th {\n",
              "        text-align: right;\n",
              "    }\n",
              "</style>\n",
              "<table border=\"1\" class=\"dataframe\">\n",
              "  <thead>\n",
              "    <tr style=\"text-align: right;\">\n",
              "      <th></th>\n",
              "      <th>Model</th>\n",
              "      <th>Score</th>\n",
              "    </tr>\n",
              "  </thead>\n",
              "  <tbody>\n",
              "    <tr>\n",
              "      <th>0</th>\n",
              "      <td>SVC</td>\n",
              "      <td>0.792</td>\n",
              "    </tr>\n",
              "    <tr>\n",
              "      <th>1</th>\n",
              "      <td>Random Forest</td>\n",
              "      <td>0.768</td>\n",
              "    </tr>\n",
              "    <tr>\n",
              "      <th>2</th>\n",
              "      <td>XgBoost</td>\n",
              "      <td>0.728</td>\n",
              "    </tr>\n",
              "  </tbody>\n",
              "</table>\n",
              "</div>"
            ],
            "text/plain": [
              "           Model  Score\n",
              "0            SVC  0.792\n",
              "1  Random Forest  0.768\n",
              "2        XgBoost  0.728"
            ]
          },
          "metadata": {
            "tags": []
          },
          "execution_count": 231
        }
      ]
    },
    {
      "cell_type": "code",
      "metadata": {
        "colab": {
          "base_uri": "https://localhost:8080/",
          "height": 497
        },
        "id": "WJtAboWTTMLm",
        "outputId": "56d376ed-0fe8-4ab1-9c9d-459544edae86"
      },
      "source": [
        "plt.figure(figsize = (20, 8))\n",
        "\n",
        "sns.barplot(x = 'Score', y = 'Model', data = models)\n",
        "plt.show()"
      ],
      "execution_count": 232,
      "outputs": [
        {
          "output_type": "display_data",
          "data": {
            "image/png": "[encoded data removed]",
            "text/plain": [
              "<Figure size 1440x576 with 1 Axes>"
            ]
          },
          "metadata": {
            "tags": [],
            "needs_background": "light"
          }
        }
      ]
    }
  ]
}